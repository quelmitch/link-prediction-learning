{
 "cells": [
  {
   "cell_type": "markdown",
   "id": "059ce43d",
   "metadata": {},
   "source": [
    "# Dense Email Network\n",
    "Link: https://snap.stanford.edu/data/email-Eu-core.html\n",
    "> Dense email network from a European research institution.\n",
    "\n",
    "---\n",
    "\n",
    "Focus: explore the differences between models and correctly apply the right one"
   ]
  },
  {
   "cell_type": "code",
   "execution_count": 14,
   "id": "9fcbf65b",
   "metadata": {},
   "outputs": [],
   "source": [
    "# Imports\n",
    "import networkx as nx\n",
    "import matplotlib.pyplot as plt\n",
    "import numpy as np\n",
    "import pandas as pd\n",
    "import seaborn as sns\n",
    "import random\n",
    "from sklearn.ensemble import RandomForestClassifier\n",
    "from sklearn.metrics import roc_auc_score, average_precision_score\n",
    "import sys\n",
    "sys.path.append('../')\n",
    "from utils import negative_sampling as ns, splits, plot\n"
   ]
  },
  {
   "cell_type": "code",
   "execution_count": 15,
   "id": "c28a3b0e",
   "metadata": {},
   "outputs": [],
   "source": [
    "# Const\n",
    "dataset = \"data/email-Eu-core.txt\"\n",
    "random.seed(42)"
   ]
  },
  {
   "cell_type": "code",
   "execution_count": 16,
   "id": "597953d2",
   "metadata": {},
   "outputs": [],
   "source": [
    "# Graph Creation\n",
    "G = nx.read_edgelist(dataset, nodetype=int)"
   ]
  },
  {
   "cell_type": "markdown",
   "id": "279ae4bf",
   "metadata": {},
   "source": [
    "## Exploratory Data Analysis (EDA)"
   ]
  },
  {
   "cell_type": "code",
   "execution_count": 17,
   "id": "2c0512bc",
   "metadata": {},
   "outputs": [
    {
     "name": "stdout",
     "output_type": "stream",
     "text": [
      "Graph with 1005 nodes and 16706 edges\n",
      "Average degree: 33.2458\n",
      "Density: 0.0331\n"
     ]
    }
   ],
   "source": [
    "average_degree = sum(dict(G.degree).values()) / len(G.nodes)\n",
    "density = nx.density(G)\n",
    "\n",
    "print(G)\n",
    "print(f'Average degree: {average_degree:.4f}')\n",
    "print(f'Density: {density:.4f}')"
   ]
  },
  {
   "cell_type": "code",
   "execution_count": 18,
   "id": "fc596727",
   "metadata": {},
   "outputs": [
    {
     "data": {
      "image/png": "[encoded data removed]",
      "text/plain": [
       "<Figure size 640x480 with 1 Axes>"
      ]
     },
     "metadata": {},
     "output_type": "display_data"
    }
   ],
   "source": [
    "plot.degree_distribution_plot(G, logx=True, logy=True)\n",
    "# TODO understand power-law distribution and log log scale and add to Obsidian"
   ]
  },
  {
   "cell_type": "code",
   "execution_count": 19,
   "id": "70c73b58",
   "metadata": {},
   "outputs": [
    {
     "name": "stdout",
     "output_type": "stream",
     "text": [
      "Number of connected components: 20\n",
      "Largest Connected Component: Graph with 986 nodes and 16687 edges\n"
     ]
    }
   ],
   "source": [
    "# Connected Components\n",
    "print(\"Number of connected components:\", nx.number_connected_components(G))\n",
    "\n",
    "G_lcc = G.subgraph(max(nx.connected_components(G), key=len)).copy()\n",
    "print(\"Largest Connected Component:\", G_lcc)"
   ]
  },
  {
   "cell_type": "code",
   "execution_count": 20,
   "id": "3b851e8f",
   "metadata": {},
   "outputs": [
    {
     "name": "stdout",
     "output_type": "stream",
     "text": [
      "Average Local Clustering: 0.3994\n",
      "Transitivity: 0.2674\n"
     ]
    }
   ],
   "source": [
    "# Clustering\n",
    "print(f'Average Local Clustering: {nx.average_clustering(G):.4f}')\n",
    "print(f'Transitivity: {nx.transitivity(G):.4f}')\n"
   ]
  },
  {
   "cell_type": "code",
   "execution_count": 21,
   "id": "46a76e75",
   "metadata": {},
   "outputs": [
    {
     "name": "stdout",
     "output_type": "stream",
     "text": [
      "Average Shortest Path Length in the LCC: 2.59\n",
      "Diameter of LCC: 7\n"
     ]
    }
   ],
   "source": [
    "# Distances\n",
    "print(f'Average Shortest Path Length in the LCC: {nx.average_shortest_path_length(G_lcc):.2f}')\n",
    "print('Diameter of LCC:', nx.diameter(G_lcc))"
   ]
  },
  {
   "cell_type": "code",
   "execution_count": 22,
   "id": "781c7cf5",
   "metadata": {},
   "outputs": [
    {
     "name": "stdout",
     "output_type": "stream",
     "text": [
      "Degree Assortativity of LCC: -0.01\n"
     ]
    }
   ],
   "source": [
    "# Assortativity\n",
    "print(f'Degree Assortativity of LCC: {nx.degree_assortativity_coefficient(G_lcc):.2f}')\n",
    "# TODO add assortativity under degree in obsidian"
   ]
  }
 ],
 "metadata": {
  "kernelspec": {
   "display_name": "learn_env",
   "language": "python",
   "name": "python3"
  },
  "language_info": {
   "codemirror_mode": {
    "name": "ipython",
    "version": 3
   },
   "file_extension": ".py",
   "mimetype": "text/x-python",
   "name": "python",
   "nbconvert_exporter": "python",
   "pygments_lexer": "ipython3",
   "version": "3.13.2"
  }
 },
 "nbformat": 4,
 "nbformat_minor": 5
}
