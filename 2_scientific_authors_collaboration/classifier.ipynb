{
 "cells": [
  {
   "cell_type": "markdown",
   "id": "60afc4b9",
   "metadata": {},
   "source": [
    "# Scientific Authors Collaboration\n",
    "Link: https://snap.stanford.edu/data/ca-HepTh.html\n",
    "> This datasets contains a collaboration network that covers scientific collaborations between authors papers submitted to High Energy Physics - Theory category. If an author co-authored a paper with another author, the graph contains a undirected edge between them."
   ]
  },
  {
   "cell_type": "code",
   "execution_count": 157,
   "id": "28fa789f",
   "metadata": {},
   "outputs": [],
   "source": [
    "# Imports\n",
    "import networkx as nx\n",
    "import matplotlib.pyplot as plt\n",
    "import numpy as np\n",
    "import random\n",
    "from sklearn.ensemble import RandomForestClassifier\n",
    "from sklearn.metrics import roc_auc_score\n",
    "import sys\n",
    "sys.path.append('../')\n",
    "from utils import negative_sampling as ns, splits, features\n",
    "\n",
    "# Const\n",
    "dataset = \"data/CA-HepTh.txt\"\n",
    "random.seed(42)"
   ]
  },
  {
   "cell_type": "code",
   "execution_count": 158,
   "id": "82daa9af",
   "metadata": {},
   "outputs": [
    {
     "name": "stdout",
     "output_type": "stream",
     "text": [
      "Nodes: 9877\n",
      "Edges: 25998\n"
     ]
    }
   ],
   "source": [
    "## Create Graph ##\n",
    "G = nx.read_edgelist(dataset, nodetype=int)\n",
    "\n",
    "print(\"Nodes:\",len(list(G.nodes)))\n",
    "print(\"Edges:\",len(list(G.edges)))"
   ]
  },
  {
   "cell_type": "code",
   "execution_count": 159,
   "id": "bcb6178b",
   "metadata": {},
   "outputs": [
    {
     "data": {
      "image/png": "[encoded data removed]",
      "text/plain": [
       "<Figure size 640x480 with 1 Axes>"
      ]
     },
     "metadata": {},
     "output_type": "display_data"
    }
   ],
   "source": [
    "# Degree Distribution Plot\n",
    "degrees = [G.degree(n) for n in G.nodes()]\n",
    "plt.hist(degrees, bins=50)\n",
    "plt.title(\"Degree Distribution\")\n",
    "plt.xlabel(\"Degree\")\n",
    "plt.ylabel(\"Frequency\")\n",
    "plt.yscale(\"log\")\n",
    "plt.show()"
   ]
  },
  {
   "cell_type": "code",
   "execution_count": 160,
   "id": "87f7211a",
   "metadata": {},
   "outputs": [
    {
     "name": "stdout",
     "output_type": "stream",
     "text": [
      "Number of connected components: 429\n",
      "Size of largest component: 8638\n"
     ]
    }
   ],
   "source": [
    "# Number of connected components\n",
    "print(\"Number of connected components:\", nx.number_connected_components(G))\n",
    "largest_cc = max(nx.connected_components(G), key=len)\n",
    "print(\"Size of largest component:\", len(largest_cc))"
   ]
  },
  {
   "cell_type": "code",
   "execution_count": 161,
   "id": "d060454b",
   "metadata": {},
   "outputs": [],
   "source": [
    "# New topological features to add\n",
    "def jaccard_coefficient(u, v, G):\n",
    "    return nx.jaccard_coefficient(G, [(u,v)])"
   ]
  },
  {
   "cell_type": "code",
   "execution_count": 162,
   "id": "b5bb25ce",
   "metadata": {},
   "outputs": [],
   "source": [
    "def build_feature_dataset(pairs, G, features=None):\n",
    "    # Default to all features if none specified\n",
    "    if features is None:\n",
    "        features = ['cn', 'jc', 'aa', 'pa', 'ra']\n",
    "\n",
    "    feature_data = {}\n",
    "\n",
    "    if 'cn' in features:\n",
    "        feature_data['cn'] = [len(list(nx.common_neighbors(G, u, v))) for u, v in pairs]\n",
    "\n",
    "    if 'jc' in features:\n",
    "        feature_data['jc'] = [coeff for _, _, coeff in nx.jaccard_coefficient(G, pairs)]\n",
    "\n",
    "    if 'aa' in features:\n",
    "        try:\n",
    "            feature_data['aa'] = [coeff for _, _, coeff in nx.adamic_adar_index(G, pairs)]\n",
    "        except ZeroDivisionError:\n",
    "            feature_data['aa'] = [0.0] * len(pairs)\n",
    "\n",
    "    if 'pa' in features:\n",
    "        feature_data['pa'] = [coeff for _, _, coeff in nx.preferential_attachment(G, pairs)]\n",
    "\n",
    "    if 'ra' in features:\n",
    "        feature_data['ra'] = [coeff for _, _, coeff in nx.resource_allocation_index(G, pairs)]\n",
    "\n",
    "    # Combine features in the order specified\n",
    "    feature_vectors = []\n",
    "    for i in range(len(pairs)):\n",
    "        vector = [feature_data[feat][i] for feat in features]\n",
    "        feature_vectors.append(vector)\n",
    "\n",
    "    return feature_vectors"
   ]
  },
  {
   "cell_type": "code",
   "execution_count": null,
   "id": "4209ce4e",
   "metadata": {},
   "outputs": [],
   "source": [
    "X_train, X_test, y_train, y_test = splits.create_train_test_split(\n",
    "    G,\n",
    "    lambda pairs, G: build_feature_dataset(pairs, G, features=[\"cn\", \"jc\", \"aa\", \"pa\", \"ra\"]),\n",
    "    lambda: ns.random_negative_sampling(G)\n",
    ")"
   ]
  },
  {
   "cell_type": "code",
   "execution_count": 164,
   "id": "ff8d25fc",
   "metadata": {},
   "outputs": [
    {
     "name": "stdout",
     "output_type": "stream",
     "text": [
      "ROC-AUC: 0.8515\n"
     ]
    }
   ],
   "source": [
    "\n",
    "def train_and_evaluate(X_train, y_train, X_test, y_test):\n",
    "    ## Train on Random Forest ##\n",
    "    clf = RandomForestClassifier(n_estimators=100, random_state=42)\n",
    "    clf.fit(X_train, y_train)\n",
    "\n",
    "    ## Evaluate ##\n",
    "    y_pred = clf.predict_proba(X_test)[:,1] # Returns 2D with 0 and 1 class probability pairs\n",
    "    auc = roc_auc_score(y_test, y_pred)\n",
    "    print(f\"ROC-AUC: {auc:.4f}\")\n",
    "\n",
    "\n",
    "train_and_evaluate(X_train, y_train, X_test, y_test)"
   ]
  },
  {
   "cell_type": "markdown",
   "id": "27583eaf",
   "metadata": {},
   "source": [
    "ROC-AUC (cn): 0.8628\n",
    "\n",
    "ROC-AUC (cn, jc): 0.8629\n",
    "\n",
    "ROC-AUC (cn, jc, aa): 0.8639\n",
    "\n",
    "ROC-AUC (cn, jc, aa, pa): 0.8515\n",
    "\n"
   ]
  }
 ],
 "metadata": {
  "kernelspec": {
   "display_name": "learn_env",
   "language": "python",
   "name": "python3"
  },
  "language_info": {
   "codemirror_mode": {
    "name": "ipython",
    "version": 3
   },
   "file_extension": ".py",
   "mimetype": "text/x-python",
   "name": "python",
   "nbconvert_exporter": "python",
   "pygments_lexer": "ipython3",
   "version": "3.13.2"
  }
 },
 "nbformat": 4,
 "nbformat_minor": 5
}
