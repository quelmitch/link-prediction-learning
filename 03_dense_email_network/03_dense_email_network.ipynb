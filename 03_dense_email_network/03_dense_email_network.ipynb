{
 "cells": [
  {
   "cell_type": "markdown",
   "id": "059ce43d",
   "metadata": {},
   "source": [
    "# Dense Email Network\n",
    "Link: https://snap.stanford.edu/data/email-Eu-core.html\n",
    "> Dense email network from a European research institution.\n",
    "\n",
    "---\n",
    "\n",
    "Focus: explore the differences between models and correctly apply the right one"
   ]
  },
  {
   "cell_type": "code",
   "execution_count": 5,
   "id": "9fcbf65b",
   "metadata": {},
   "outputs": [],
   "source": [
    "# Imports\n",
    "import networkx as nx\n",
    "import matplotlib.pyplot as plt\n",
    "import numpy as np\n",
    "import pandas as pd\n",
    "import seaborn as sns\n",
    "import random\n",
    "from sklearn.ensemble import RandomForestClassifier\n",
    "from sklearn.metrics import roc_auc_score, average_precision_score\n",
    "import sys\n",
    "sys.path.append('../')\n",
    "from utils import negative_sampling as ns, splits, plot\n"
   ]
  },
  {
   "cell_type": "code",
   "execution_count": 6,
   "id": "c28a3b0e",
   "metadata": {},
   "outputs": [],
   "source": [
    "# Const\n",
    "dataset = \"data/email-Eu-core.txt\"\n",
    "random.seed(42)"
   ]
  },
  {
   "cell_type": "code",
   "execution_count": 7,
   "id": "597953d2",
   "metadata": {},
   "outputs": [],
   "source": [
    "# Graph Creation\n",
    "G = nx.read_edgelist(dataset, nodetype=int)"
   ]
  },
  {
   "cell_type": "markdown",
   "id": "279ae4bf",
   "metadata": {},
   "source": [
    "## Exploratory Data Analysis (EDA)"
   ]
  },
  {
   "cell_type": "code",
   "execution_count": 8,
   "id": "2c0512bc",
   "metadata": {},
   "outputs": [
    {
     "name": "stdout",
     "output_type": "stream",
     "text": [
      "Graph with 1005 nodes and 16706 edges\n",
      "Average degree: 33.2\n",
      "Max degree: 347\n",
      "Min degree: 1\n",
      "Density: 0.0331\n"
     ]
    }
   ],
   "source": [
    "density = nx.density(G)\n",
    "\n",
    "print(G)\n",
    "print(f'Average degree: {sum(dict(G.degree).values()) / len(G.nodes):.1f}')\n",
    "print(f'Max degree: {max(dict(G.degree).values())}')\n",
    "print(f'Min degree: {min(dict(G.degree).values())}')\n",
    "print(f'Density: {density:.4f}')"
   ]
  },
  {
   "cell_type": "markdown",
   "id": "7f704b56",
   "metadata": {},
   "source": [
    "---"
   ]
  },
  {
   "cell_type": "code",
   "execution_count": 9,
   "id": "70c73b58",
   "metadata": {},
   "outputs": [
    {
     "name": "stdout",
     "output_type": "stream",
     "text": [
      "Number of connected components: 20\n",
      "Largest Connected Component: Graph with 986 nodes and 16687 edges\n"
     ]
    }
   ],
   "source": [
    "# Connected Components\n",
    "print(\"Number of connected components:\", nx.number_connected_components(G))\n",
    "\n",
    "G_lcc = G.subgraph(max(nx.connected_components(G), key=len)).copy()\n",
    "print(\"Largest Connected Component:\", G_lcc)"
   ]
  },
  {
   "cell_type": "markdown",
   "id": "3a263539",
   "metadata": {},
   "source": [
    "The LCC is almost the size of the entire network, confirming the fact that it's a dense, small-world network. We'll work with the LCC from now on."
   ]
  },
  {
   "cell_type": "markdown",
   "id": "1135e43b",
   "metadata": {},
   "source": [
    "---"
   ]
  },
  {
   "cell_type": "code",
   "execution_count": 10,
   "id": "3b851e8f",
   "metadata": {},
   "outputs": [
    {
     "name": "stdout",
     "output_type": "stream",
     "text": [
      "Average Local Clustering: 0.4071\n",
      "Transitivity: 0.2674\n"
     ]
    }
   ],
   "source": [
    "# Clustering\n",
    "print(f'Average Local Clustering: {nx.average_clustering(G_lcc):.4f}')\n",
    "print(f'Transitivity: {nx.transitivity(G_lcc):.4f}')\n"
   ]
  },
  {
   "cell_type": "markdown",
   "id": "475aa844",
   "metadata": {},
   "source": [
    "High clustering means that individuals in a group tend to communicate with each other and suggests that local link prediction features should be relatively effective, as they directly measure this local cohesiveness.\n",
    "\n",
    "---"
   ]
  },
  {
   "cell_type": "code",
   "execution_count": 11,
   "id": "46a76e75",
   "metadata": {},
   "outputs": [
    {
     "name": "stdout",
     "output_type": "stream",
     "text": [
      "Average Shortest Path Length in the LCC: 2.59\n",
      "Diameter of LCC: 7\n"
     ]
    }
   ],
   "source": [
    "# Distances\n",
    "print(f'Average Shortest Path Length in the LCC: {nx.average_shortest_path_length(G_lcc):.2f}')\n",
    "print('Diameter of LCC:', nx.diameter(G_lcc))"
   ]
  },
  {
   "cell_type": "markdown",
   "id": "4ac8d266",
   "metadata": {},
   "source": [
    "Low values for diameter and Shortest Path Length means that even if nodes aren't directly connected, they are often not far from each other, making the prediction non-trivial.\n",
    "\n",
    "---"
   ]
  },
  {
   "cell_type": "code",
   "execution_count": 12,
   "id": "781c7cf5",
   "metadata": {},
   "outputs": [
    {
     "name": "stdout",
     "output_type": "stream",
     "text": [
      "Degree Assortativity of LCC: -0.01\n"
     ]
    }
   ],
   "source": [
    "# Assortativity\n",
    "print(f'Degree Assortativity of LCC: {nx.degree_assortativity_coefficient(G_lcc):.2f}')"
   ]
  },
  {
   "cell_type": "markdown",
   "id": "53e32354",
   "metadata": {},
   "source": [
    "This suggests there's no strong tendency for high-degree nodes to connect to other high-degree nodes or for high-degree nodes to connect to low-degree nodes. It is a good signal that a measure like Preferential Attachment will not be optimal with this network."
   ]
  },
  {
   "cell_type": "markdown",
   "id": "67e169e0",
   "metadata": {},
   "source": [
    "#### Degree Distribution Analysis\n",
    "Looking at the degree distribution, we can make hypotheses on the performance of the Preferential Attachment measure for link prediction."
   ]
  },
  {
   "cell_type": "code",
   "execution_count": 13,
   "id": "b1e25eac",
   "metadata": {},
   "outputs": [
    {
     "data": {
      "image/png": "[encoded data removed]",
      "text/plain": [
       "<Figure size 640x480 with 1 Axes>"
      ]
     },
     "metadata": {},
     "output_type": "display_data"
    }
   ],
   "source": [
    "#Linear Scale Histogram\n",
    "plot.degree_count_plot(G_lcc, logy=False)"
   ]
  },
  {
   "cell_type": "markdown",
   "id": "5e8e9bdf",
   "metadata": {},
   "source": [
    "This histogram, plotted on a linear scale, reveals a highly skewed distribution with a \"long tail.\" The vast majority of nodes have low degrees, while a few \"hub\" nodes possess a disproportionately high number of connections. This pattern is characteristic of a power law."
   ]
  },
  {
   "cell_type": "code",
   "execution_count": 14,
   "id": "fc596727",
   "metadata": {},
   "outputs": [
    {
     "data": {
      "image/png": "[encoded data removed]",
      "text/plain": [
       "<Figure size 800x600 with 1 Axes>"
      ]
     },
     "metadata": {},
     "output_type": "display_data"
    }
   ],
   "source": [
    "# Log-Log Scale Probability Mass Function (PMF)\n",
    "plot.degree_distribution_plot(G_lcc)"
   ]
  },
  {
   "cell_type": "markdown",
   "id": "17437811",
   "metadata": {},
   "source": [
    "On the log-log scale, the degree distribution exhibits a linear trend for lower to mid-range degrees, which is indicative of power-law behavior. However, the clear deviation  observed at higher degrees suggests the network is not a pure power-law across its entire range. \n",
    "\n",
    "Consequently, Preferential Attachment performance in a link prediction task could be limited or not optimal, particularly for links involving high-degree nodes where the power-law assumption is invalid (added to the near-zero value for assortativity measured before)."
   ]
  },
  {
   "cell_type": "markdown",
   "id": "b3e20a2a",
   "metadata": {},
   "source": [
    "## Classifiers Comparison"
   ]
  },
  {
   "cell_type": "markdown",
   "id": "bb2a6751",
   "metadata": {},
   "source": [
    "Based on previous analysis made in the notebook `02`, I selected a restricted set of feature combinations to try on this network. The choice consider the best scores obtained in the previous analysis but also the information discovered through the EDA."
   ]
  },
  {
   "cell_type": "code",
   "execution_count": 15,
   "id": "66a72a73",
   "metadata": {},
   "outputs": [],
   "source": [
    "def build_feature_dataset(pairs, G, features=None):\n",
    "    # Default to all features if none specified\n",
    "    if features is None:\n",
    "        features = ['cn', 'jc', 'aa', 'pa', 'ra']\n",
    "\n",
    "    feature_data = {}\n",
    "\n",
    "    if 'cn' in features:\n",
    "        feature_data['cn'] = [len(list(nx.common_neighbors(G, u, v))) for u, v in pairs]\n",
    "\n",
    "    if 'jc' in features:\n",
    "        feature_data['jc'] = [coeff for _, _, coeff in nx.jaccard_coefficient(G, pairs)]\n",
    "\n",
    "    if 'aa' in features:\n",
    "        aa_scores = []\n",
    "        for u_node, v_node in pairs:\n",
    "            try:\n",
    "                _, _, score = list(nx.adamic_adar_index(G, [(u_node, v_node)]))[0]\n",
    "                aa_scores.append(score)\n",
    "            except (ZeroDivisionError, StopIteration):\n",
    "                aa_scores.append(0.0)\n",
    "        feature_data['aa'] = aa_scores\n",
    "\n",
    "    if 'pa' in features:\n",
    "        feature_data['pa'] = [coeff for _, _, coeff in nx.preferential_attachment(G, pairs)]\n",
    "\n",
    "    if 'ra' in features:\n",
    "        feature_data['ra'] = [coeff for _, _, coeff in nx.resource_allocation_index(G, pairs)]\n",
    "\n",
    "    # Combine feature\n",
    "    feature_vectors = []\n",
    "    for i in range(len(pairs)):\n",
    "        vector = [feature_data[feat][i] for feat in features]\n",
    "        feature_vectors.append(vector)\n",
    "\n",
    "    return feature_vectors"
   ]
  },
  {
   "cell_type": "code",
   "execution_count": null,
   "id": "9d6db8a2",
   "metadata": {},
   "outputs": [],
   "source": [
    "feature_combinations = [\n",
    "    (['cn'], '(cn)'),\n",
    "    (['jc'], '(jc)'),\n",
    "    (['aa'], '(aa)'),\n",
    "    (['pa'], '(pa)'),\n",
    "    (['ra'], '(ra)'),\n",
    "\n",
    "\n",
    "    (['cn', 'jc', 'aa', 'ra'], '(cn, jc, aa, ra)'),\n",
    "    (['cn', 'jc', 'aa', 'ra', 'pa'], '(cn, jc, aa, ra, pa)'),\n",
    "\n",
    "    (['cn', 'ra'], '(cn, ra)'),\n",
    "    (['jc', 'ra'], '(jc, ra)'),\n",
    "    (['ra', 'pa'], '(ra, pa)'),\n",
    "]\n",
    "\n",
    "def evaluate_pipeline(G, feature_combinations, negative_sampler, strategy_name):\n",
    "    results = []\n",
    "    for features, description in feature_combinations:\n",
    "        X_train, X_test, y_train, y_test = splits.create_train_test_split(\n",
    "            G,\n",
    "            lambda pairs, G_train_graph: build_feature_dataset(pairs, G_train_graph, features),\n",
    "            lambda: negative_sampler(G)\n",
    "        )\n",
    "\n",
    "        clf = RandomForestClassifier(n_estimators=100, random_state=42)\n",
    "        clf.fit(X_train, y_train)\n",
    "        y_pred = clf.predict_proba(X_test)[:, 1]\n",
    "        auc_pr = average_precision_score(y_test, y_pred)\n",
    "        auc_roc = roc_auc_score(y_test, y_pred)\n",
    "\n",
    "        results.append({\n",
    "            'Features': description,\n",
    "            'AUC_ROC': auc_roc,\n",
    "            'AUC_PR': auc_pr,\n",
    "            'Sampling': strategy_name\n",
    "        })\n",
    "    return pd.DataFrame(results)"
   ]
  },
  {
   "cell_type": "code",
   "execution_count": null,
   "id": "5aec494b",
   "metadata": {},
   "outputs": [
    {
     "data": {
      "text/html": [
       "<div>\n",
       "<style scoped>\n",
       "    .dataframe tbody tr th:only-of-type {\n",
       "        vertical-align: middle;\n",
       "    }\n",
       "\n",
       "    .dataframe tbody tr th {\n",
       "        vertical-align: top;\n",
       "    }\n",
       "\n",
       "    .dataframe thead th {\n",
       "        text-align: right;\n",
       "    }\n",
       "</style>\n",
       "<table border=\"1\" class=\"dataframe\">\n",
       "  <thead>\n",
       "    <tr style=\"text-align: right;\">\n",
       "      <th></th>\n",
       "      <th>Features</th>\n",
       "      <th>AUC_ROC</th>\n",
       "      <th>AUC_PR</th>\n",
       "      <th>Sampling</th>\n",
       "    </tr>\n",
       "  </thead>\n",
       "  <tbody>\n",
       "    <tr>\n",
       "      <th>0</th>\n",
       "      <td>(cn)</td>\n",
       "      <td>0.735228</td>\n",
       "      <td>0.759964</td>\n",
       "      <td>common_neighbors</td>\n",
       "    </tr>\n",
       "    <tr>\n",
       "      <th>1</th>\n",
       "      <td>(jc)</td>\n",
       "      <td>0.693176</td>\n",
       "      <td>0.720725</td>\n",
       "      <td>common_neighbors</td>\n",
       "    </tr>\n",
       "    <tr>\n",
       "      <th>2</th>\n",
       "      <td>(aa)</td>\n",
       "      <td>0.666161</td>\n",
       "      <td>0.687276</td>\n",
       "      <td>common_neighbors</td>\n",
       "    </tr>\n",
       "    <tr>\n",
       "      <th>3</th>\n",
       "      <td>(pa)</td>\n",
       "      <td>0.644464</td>\n",
       "      <td>0.661132</td>\n",
       "      <td>common_neighbors</td>\n",
       "    </tr>\n",
       "    <tr>\n",
       "      <th>4</th>\n",
       "      <td>(ra)</td>\n",
       "      <td>0.651853</td>\n",
       "      <td>0.667602</td>\n",
       "      <td>common_neighbors</td>\n",
       "    </tr>\n",
       "    <tr>\n",
       "      <th>5</th>\n",
       "      <td>(cn, jc, aa, ra)</td>\n",
       "      <td>0.776199</td>\n",
       "      <td>0.802525</td>\n",
       "      <td>common_neighbors</td>\n",
       "    </tr>\n",
       "    <tr>\n",
       "      <th>6</th>\n",
       "      <td>(cn, jc, aa, ra, pa)</td>\n",
       "      <td>0.788237</td>\n",
       "      <td>0.811065</td>\n",
       "      <td>common_neighbors</td>\n",
       "    </tr>\n",
       "    <tr>\n",
       "      <th>7</th>\n",
       "      <td>(cn, ra)</td>\n",
       "      <td>0.719100</td>\n",
       "      <td>0.726639</td>\n",
       "      <td>common_neighbors</td>\n",
       "    </tr>\n",
       "    <tr>\n",
       "      <th>8</th>\n",
       "      <td>(jc, ra)</td>\n",
       "      <td>0.697161</td>\n",
       "      <td>0.735340</td>\n",
       "      <td>common_neighbors</td>\n",
       "    </tr>\n",
       "    <tr>\n",
       "      <th>9</th>\n",
       "      <td>(ra, pa)</td>\n",
       "      <td>0.731053</td>\n",
       "      <td>0.763908</td>\n",
       "      <td>common_neighbors</td>\n",
       "    </tr>\n",
       "  </tbody>\n",
       "</table>\n",
       "</div>"
      ],
      "text/plain": [
       "               Features   AUC_ROC    AUC_PR          Sampling\n",
       "0                  (cn)  0.735228  0.759964  common_neighbors\n",
       "1                  (jc)  0.693176  0.720725  common_neighbors\n",
       "2                  (aa)  0.666161  0.687276  common_neighbors\n",
       "3                  (pa)  0.644464  0.661132  common_neighbors\n",
       "4                  (ra)  0.651853  0.667602  common_neighbors\n",
       "5      (cn, jc, aa, ra)  0.776199  0.802525  common_neighbors\n",
       "6  (cn, jc, aa, ra, pa)  0.788237  0.811065  common_neighbors\n",
       "7              (cn, ra)  0.719100  0.726639  common_neighbors\n",
       "8              (jc, ra)  0.697161  0.735340  common_neighbors\n",
       "9              (ra, pa)  0.731053  0.763908  common_neighbors"
      ]
     },
     "execution_count": 17,
     "metadata": {},
     "output_type": "execute_result"
    }
   ],
   "source": [
    "evaluate_pipeline(\n",
    "    G_lcc, feature_combinations, ns.common_neighbors_hard_negative_sampling, \"common_neighbors\"\n",
    ")"
   ]
  },
  {
   "cell_type": "markdown",
   "id": "1da995e7",
   "metadata": {},
   "source": [
    "The scores are significantly different from the ones obtained in the previous analysis: here the best combination is the feature set (cn, jc, aa, ra, pa). Before analyzing the choice of the feature set, let's look at the correlation matrix to see if the set could be simplified."
   ]
  },
  {
   "cell_type": "code",
   "execution_count": 18,
   "id": "ef5d655f",
   "metadata": {},
   "outputs": [
    {
     "data": {
      "image/png": "[encoded data removed]",
      "text/plain": [
       "<Figure size 800x600 with 2 Axes>"
      ]
     },
     "metadata": {},
     "output_type": "display_data"
    }
   ],
   "source": [
    "features=['cn', 'jc', 'aa', 'pa', 'ra']\n",
    "X_train_for_corr, _, _, _ = splits.create_train_test_split(\n",
    "    G,\n",
    "    lambda p, G: build_feature_dataset(p, G, features),\n",
    "    lambda: ns.random_negative_sampling(G)\n",
    ")\n",
    "\n",
    "# Calculate the correlation matrix\n",
    "correlation_matrix = pd.DataFrame(X_train_for_corr, columns=features).corr()\n",
    "\n",
    "plt.figure(figsize=(8, 6))\n",
    "sns.heatmap(correlation_matrix, annot=True, cmap='coolwarm', fmt=\".2f\", linewidths=.5)\n",
    "plt.title('Feature Correlation Matrix')\n",
    "plt.show()"
   ]
  },
  {
   "cell_type": "markdown",
   "id": "7544e27d",
   "metadata": {},
   "source": [
    "Measures like pa and jc seem to bring relatively distinct information given their lower correlations with the cn/aa/ra cluster.\n",
    "\n",
    "The only measures that are seem to be highly correlated with every other measure are cn and aa, so trying to remove them could not be impactful on the performance."
   ]
  },
  {
   "cell_type": "code",
   "execution_count": 19,
   "id": "995cd9b7",
   "metadata": {},
   "outputs": [
    {
     "data": {
      "text/html": [
       "<div>\n",
       "<style scoped>\n",
       "    .dataframe tbody tr th:only-of-type {\n",
       "        vertical-align: middle;\n",
       "    }\n",
       "\n",
       "    .dataframe tbody tr th {\n",
       "        vertical-align: top;\n",
       "    }\n",
       "\n",
       "    .dataframe thead th {\n",
       "        text-align: right;\n",
       "    }\n",
       "</style>\n",
       "<table border=\"1\" class=\"dataframe\">\n",
       "  <thead>\n",
       "    <tr style=\"text-align: right;\">\n",
       "      <th></th>\n",
       "      <th>Features</th>\n",
       "      <th>AUC_ROC</th>\n",
       "      <th>AUC_PR</th>\n",
       "      <th>Sampling</th>\n",
       "    </tr>\n",
       "  </thead>\n",
       "  <tbody>\n",
       "    <tr>\n",
       "      <th>0</th>\n",
       "      <td>(jc, aa, ra, pa)</td>\n",
       "      <td>0.776767</td>\n",
       "      <td>0.800211</td>\n",
       "      <td>common_neighbors</td>\n",
       "    </tr>\n",
       "    <tr>\n",
       "      <th>1</th>\n",
       "      <td>(cn, jc, ra, pa)</td>\n",
       "      <td>0.780105</td>\n",
       "      <td>0.805209</td>\n",
       "      <td>common_neighbors</td>\n",
       "    </tr>\n",
       "    <tr>\n",
       "      <th>2</th>\n",
       "      <td>(jc, ra, pa)</td>\n",
       "      <td>0.777970</td>\n",
       "      <td>0.805296</td>\n",
       "      <td>common_neighbors</td>\n",
       "    </tr>\n",
       "  </tbody>\n",
       "</table>\n",
       "</div>"
      ],
      "text/plain": [
       "           Features   AUC_ROC    AUC_PR          Sampling\n",
       "0  (jc, aa, ra, pa)  0.776767  0.800211  common_neighbors\n",
       "1  (cn, jc, ra, pa)  0.780105  0.805209  common_neighbors\n",
       "2      (jc, ra, pa)  0.777970  0.805296  common_neighbors"
      ]
     },
     "execution_count": 19,
     "metadata": {},
     "output_type": "execute_result"
    }
   ],
   "source": [
    "feature_combinations = [\n",
    "    (['jc', 'aa', 'ra', 'pa'], '(jc, aa, ra, pa)'),\n",
    "    (['cn', 'jc', 'ra', 'pa'], '(cn, jc, ra, pa)'),\n",
    "    (['jc', 'ra', 'pa'], '(jc, ra, pa)'),\n",
    "]\n",
    "\n",
    "evaluate_pipeline(\n",
    "    G_lcc, feature_combinations, ns.common_neighbors_hard_negative_sampling, \"common_neighbors\"\n",
    ")"
   ]
  },
  {
   "cell_type": "markdown",
   "id": "01840d1a",
   "metadata": {},
   "source": [
    "As hypothesized, reducing the feature set from all five measures (cn, jc, aa, ra, pa) and the set (jc, ra, pa) resulted in only a small performance difference (approximately 0.01)\n",
    "\n",
    "In the context of this learning-focused analysis, where performance is not a critical need, I'll follow the Occam's Razor by opting for the more efficient and straightforward feature combination."
   ]
  }
 ],
 "metadata": {
  "kernelspec": {
   "display_name": "learn_env",
   "language": "python",
   "name": "python3"
  },
  "language_info": {
   "codemirror_mode": {
    "name": "ipython",
    "version": 3
   },
   "file_extension": ".py",
   "mimetype": "text/x-python",
   "name": "python",
   "nbconvert_exporter": "python",
   "pygments_lexer": "ipython3",
   "version": "3.13.2"
  }
 },
 "nbformat": 4,
 "nbformat_minor": 5
}
