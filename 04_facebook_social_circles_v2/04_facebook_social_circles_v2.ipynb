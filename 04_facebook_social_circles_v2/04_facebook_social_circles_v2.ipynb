{
 "cells": [
  {
   "cell_type": "markdown",
   "id": "065715a6",
   "metadata": {},
   "source": [
    "# Facebook Social Circles V2\n",
    "Link: https://snap.stanford.edu/data/ego-Facebook.html\n",
    "\n",
    ">This dataset consists of 'circles' (or 'friends lists') from Facebook. Facebook data was collected from survey participants using this Facebook app.\n",
    "\n",
    "---\n",
    "\n",
    "Focus: Integrating node-level features with scaled Logistic Regression; optimizing via basic hyperparameter tuning."
   ]
  },
  {
   "cell_type": "code",
   "execution_count": 1,
   "id": "3a3bd9fd",
   "metadata": {},
   "outputs": [],
   "source": [
    "# Imports\n",
    "import networkx as nx\n",
    "import matplotlib.pyplot as plt\n",
    "import numpy as np\n",
    "import pandas as pd\n",
    "import seaborn as sns\n",
    "import re\n",
    "import sys\n",
    "sys.path.append('../')\n",
    "\n",
    "from utils import negative_sampling as ns, splits, plot\n",
    "\n",
    "from sklearn.ensemble import RandomForestClassifier\n",
    "from sklearn.linear_model import LogisticRegression\n",
    "from sklearn.preprocessing import StandardScaler\n",
    "from sklearn.metrics import average_precision_score\n"
   ]
  },
  {
   "cell_type": "markdown",
   "id": "1c360fd5",
   "metadata": {},
   "source": [
    "## Dataset Loading"
   ]
  },
  {
   "cell_type": "markdown",
   "id": "26ece06d",
   "metadata": {},
   "source": [
    "This dataset is an ego network, meaning that it centers around a specific user (the \"ego\") and includes all their immediate friends and the connections between those friends.\n",
    "There are several file types:\n",
    "- `.edges`: These files define the edges within a specific ego network.\n",
    "- `.feat`: These files contain anonymized binary features for all nodes in the ego network (except the ego itself). Each line starts with a node ID, followed by a series of binary (0 or 1) feature values, space-separated.\n",
    "- `.egofeat`: These files contain the anonymized binary features for the ego node itself.\n",
    "- `.featnames`: Provides a mapping for the feature indices. Each line describes a feature. Due to anonymization, the descriptions are generic.\n",
    "- `.circles`: Defines \"circles\" or \"friend lists\" within the ego network (ground-truth communities). Each line starts with a label, followed by a list of space-separated node IDs that belong to that circle. "
   ]
  },
  {
   "cell_type": "markdown",
   "id": "5f823a89",
   "metadata": {},
   "source": [
    "For learning purposes this notebook will focus on just one ego network (of node `0`) from all the ego networks available in the dataset."
   ]
  },
  {
   "cell_type": "code",
   "execution_count": 2,
   "id": "0945053b",
   "metadata": {},
   "outputs": [],
   "source": [
    "# Load Graph\n",
    "G = nx.read_edgelist('data/0.edges', nodetype=int)"
   ]
  },
  {
   "cell_type": "code",
   "execution_count": 3,
   "id": "b57ec95a",
   "metadata": {},
   "outputs": [
    {
     "data": {
      "text/plain": [
       "['birthday;anonymized feature 0',\n",
       " 'birthday;anonymized feature 1',\n",
       " 'birthday;anonymized feature 2',\n",
       " 'birthday;anonymized feature 3',\n",
       " 'birthday;anonymized feature 4',\n",
       " 'birthday;anonymized feature 5',\n",
       " 'birthday;anonymized feature 6',\n",
       " 'birthday;anonymized feature 7',\n",
       " 'education;classes;id;anonymized feature 8',\n",
       " 'education;classes;id;anonymized feature 9']"
      ]
     },
     "execution_count": 3,
     "metadata": {},
     "output_type": "execute_result"
    }
   ],
   "source": [
    "# Load Features Names\n",
    "feature_path = 'data/0.feat'\n",
    "feature_names_path = 'data/0.featnames'\n",
    "egofeat_path = \"data/0.egofeat\"\n",
    "\n",
    "feature_names = []\n",
    "try:\n",
    "    with open(feature_names_path, 'r') as f:\n",
    "        for line in f:\n",
    "            line = line.strip()\n",
    "            parts = line.split(' ', 1)  # Separate indexes\n",
    "            feature_names.append(parts[1])\n",
    "except Exception as e:\n",
    "    print(f\"An error occurred while loading feature names: {e}\")\n",
    "    feature_names = []\n",
    "\n",
    "feature_names[:10]"
   ]
  },
  {
   "cell_type": "markdown",
   "id": "7ec4f448",
   "metadata": {},
   "source": [
    "Feature vectors from this dataset has been obscured, so each feature real value has been replaced. For instance, a feature \"political=Democratic Party\", would be replaced with \"political=anonymized feature 1\"."
   ]
  },
  {
   "cell_type": "code",
   "execution_count": 4,
   "id": "f7bac2e3",
   "metadata": {},
   "outputs": [
    {
     "data": {
      "text/html": [
       "<div>\n",
       "<style scoped>\n",
       "    .dataframe tbody tr th:only-of-type {\n",
       "        vertical-align: middle;\n",
       "    }\n",
       "\n",
       "    .dataframe tbody tr th {\n",
       "        vertical-align: top;\n",
       "    }\n",
       "\n",
       "    .dataframe thead th {\n",
       "        text-align: right;\n",
       "    }\n",
       "</style>\n",
       "<table border=\"1\" class=\"dataframe\">\n",
       "  <thead>\n",
       "    <tr style=\"text-align: right;\">\n",
       "      <th></th>\n",
       "      <th>birthday;anonymized feature 0</th>\n",
       "      <th>birthday;anonymized feature 1</th>\n",
       "      <th>birthday;anonymized feature 2</th>\n",
       "      <th>birthday;anonymized feature 3</th>\n",
       "      <th>birthday;anonymized feature 4</th>\n",
       "      <th>birthday;anonymized feature 5</th>\n",
       "      <th>birthday;anonymized feature 6</th>\n",
       "      <th>birthday;anonymized feature 7</th>\n",
       "      <th>education;classes;id;anonymized feature 8</th>\n",
       "      <th>education;classes;id;anonymized feature 9</th>\n",
       "      <th>...</th>\n",
       "      <th>work;start_date;anonymized feature 200</th>\n",
       "      <th>work;start_date;anonymized feature 201</th>\n",
       "      <th>work;start_date;anonymized feature 168</th>\n",
       "      <th>work;start_date;anonymized feature 202</th>\n",
       "      <th>work;start_date;anonymized feature 169</th>\n",
       "      <th>work;start_date;anonymized feature 170</th>\n",
       "      <th>work;start_date;anonymized feature 171</th>\n",
       "      <th>work;start_date;anonymized feature 203</th>\n",
       "      <th>work;start_date;anonymized feature 204</th>\n",
       "      <th>work;with;id;anonymized feature 205</th>\n",
       "    </tr>\n",
       "  </thead>\n",
       "  <tbody>\n",
       "    <tr>\n",
       "      <th>1</th>\n",
       "      <td>0</td>\n",
       "      <td>0</td>\n",
       "      <td>0</td>\n",
       "      <td>0</td>\n",
       "      <td>0</td>\n",
       "      <td>0</td>\n",
       "      <td>0</td>\n",
       "      <td>0</td>\n",
       "      <td>0</td>\n",
       "      <td>0</td>\n",
       "      <td>...</td>\n",
       "      <td>0</td>\n",
       "      <td>0</td>\n",
       "      <td>0</td>\n",
       "      <td>0</td>\n",
       "      <td>0</td>\n",
       "      <td>0</td>\n",
       "      <td>0</td>\n",
       "      <td>0</td>\n",
       "      <td>0</td>\n",
       "      <td>0</td>\n",
       "    </tr>\n",
       "    <tr>\n",
       "      <th>2</th>\n",
       "      <td>0</td>\n",
       "      <td>0</td>\n",
       "      <td>0</td>\n",
       "      <td>0</td>\n",
       "      <td>0</td>\n",
       "      <td>0</td>\n",
       "      <td>0</td>\n",
       "      <td>0</td>\n",
       "      <td>0</td>\n",
       "      <td>0</td>\n",
       "      <td>...</td>\n",
       "      <td>0</td>\n",
       "      <td>0</td>\n",
       "      <td>0</td>\n",
       "      <td>0</td>\n",
       "      <td>0</td>\n",
       "      <td>0</td>\n",
       "      <td>0</td>\n",
       "      <td>0</td>\n",
       "      <td>0</td>\n",
       "      <td>0</td>\n",
       "    </tr>\n",
       "    <tr>\n",
       "      <th>3</th>\n",
       "      <td>0</td>\n",
       "      <td>0</td>\n",
       "      <td>0</td>\n",
       "      <td>0</td>\n",
       "      <td>0</td>\n",
       "      <td>0</td>\n",
       "      <td>0</td>\n",
       "      <td>1</td>\n",
       "      <td>0</td>\n",
       "      <td>0</td>\n",
       "      <td>...</td>\n",
       "      <td>0</td>\n",
       "      <td>0</td>\n",
       "      <td>0</td>\n",
       "      <td>1</td>\n",
       "      <td>0</td>\n",
       "      <td>0</td>\n",
       "      <td>0</td>\n",
       "      <td>0</td>\n",
       "      <td>0</td>\n",
       "      <td>0</td>\n",
       "    </tr>\n",
       "    <tr>\n",
       "      <th>4</th>\n",
       "      <td>0</td>\n",
       "      <td>0</td>\n",
       "      <td>0</td>\n",
       "      <td>0</td>\n",
       "      <td>0</td>\n",
       "      <td>0</td>\n",
       "      <td>0</td>\n",
       "      <td>0</td>\n",
       "      <td>0</td>\n",
       "      <td>0</td>\n",
       "      <td>...</td>\n",
       "      <td>0</td>\n",
       "      <td>0</td>\n",
       "      <td>0</td>\n",
       "      <td>0</td>\n",
       "      <td>0</td>\n",
       "      <td>0</td>\n",
       "      <td>0</td>\n",
       "      <td>0</td>\n",
       "      <td>0</td>\n",
       "      <td>0</td>\n",
       "    </tr>\n",
       "    <tr>\n",
       "      <th>5</th>\n",
       "      <td>0</td>\n",
       "      <td>0</td>\n",
       "      <td>0</td>\n",
       "      <td>0</td>\n",
       "      <td>0</td>\n",
       "      <td>0</td>\n",
       "      <td>0</td>\n",
       "      <td>0</td>\n",
       "      <td>0</td>\n",
       "      <td>0</td>\n",
       "      <td>...</td>\n",
       "      <td>0</td>\n",
       "      <td>0</td>\n",
       "      <td>0</td>\n",
       "      <td>0</td>\n",
       "      <td>0</td>\n",
       "      <td>0</td>\n",
       "      <td>0</td>\n",
       "      <td>0</td>\n",
       "      <td>0</td>\n",
       "      <td>0</td>\n",
       "    </tr>\n",
       "    <tr>\n",
       "      <th>6</th>\n",
       "      <td>0</td>\n",
       "      <td>1</td>\n",
       "      <td>0</td>\n",
       "      <td>0</td>\n",
       "      <td>0</td>\n",
       "      <td>0</td>\n",
       "      <td>0</td>\n",
       "      <td>0</td>\n",
       "      <td>0</td>\n",
       "      <td>0</td>\n",
       "      <td>...</td>\n",
       "      <td>0</td>\n",
       "      <td>0</td>\n",
       "      <td>0</td>\n",
       "      <td>0</td>\n",
       "      <td>0</td>\n",
       "      <td>0</td>\n",
       "      <td>0</td>\n",
       "      <td>0</td>\n",
       "      <td>0</td>\n",
       "      <td>0</td>\n",
       "    </tr>\n",
       "    <tr>\n",
       "      <th>7</th>\n",
       "      <td>0</td>\n",
       "      <td>0</td>\n",
       "      <td>0</td>\n",
       "      <td>0</td>\n",
       "      <td>0</td>\n",
       "      <td>0</td>\n",
       "      <td>0</td>\n",
       "      <td>0</td>\n",
       "      <td>0</td>\n",
       "      <td>0</td>\n",
       "      <td>...</td>\n",
       "      <td>0</td>\n",
       "      <td>0</td>\n",
       "      <td>0</td>\n",
       "      <td>0</td>\n",
       "      <td>0</td>\n",
       "      <td>0</td>\n",
       "      <td>0</td>\n",
       "      <td>0</td>\n",
       "      <td>0</td>\n",
       "      <td>0</td>\n",
       "    </tr>\n",
       "    <tr>\n",
       "      <th>8</th>\n",
       "      <td>0</td>\n",
       "      <td>0</td>\n",
       "      <td>0</td>\n",
       "      <td>0</td>\n",
       "      <td>0</td>\n",
       "      <td>0</td>\n",
       "      <td>0</td>\n",
       "      <td>0</td>\n",
       "      <td>0</td>\n",
       "      <td>0</td>\n",
       "      <td>...</td>\n",
       "      <td>0</td>\n",
       "      <td>0</td>\n",
       "      <td>0</td>\n",
       "      <td>0</td>\n",
       "      <td>0</td>\n",
       "      <td>0</td>\n",
       "      <td>0</td>\n",
       "      <td>0</td>\n",
       "      <td>0</td>\n",
       "      <td>0</td>\n",
       "    </tr>\n",
       "    <tr>\n",
       "      <th>9</th>\n",
       "      <td>0</td>\n",
       "      <td>0</td>\n",
       "      <td>0</td>\n",
       "      <td>0</td>\n",
       "      <td>0</td>\n",
       "      <td>0</td>\n",
       "      <td>0</td>\n",
       "      <td>0</td>\n",
       "      <td>0</td>\n",
       "      <td>0</td>\n",
       "      <td>...</td>\n",
       "      <td>0</td>\n",
       "      <td>0</td>\n",
       "      <td>0</td>\n",
       "      <td>0</td>\n",
       "      <td>0</td>\n",
       "      <td>0</td>\n",
       "      <td>0</td>\n",
       "      <td>0</td>\n",
       "      <td>0</td>\n",
       "      <td>0</td>\n",
       "    </tr>\n",
       "    <tr>\n",
       "      <th>10</th>\n",
       "      <td>0</td>\n",
       "      <td>0</td>\n",
       "      <td>0</td>\n",
       "      <td>0</td>\n",
       "      <td>0</td>\n",
       "      <td>0</td>\n",
       "      <td>1</td>\n",
       "      <td>0</td>\n",
       "      <td>0</td>\n",
       "      <td>0</td>\n",
       "      <td>...</td>\n",
       "      <td>1</td>\n",
       "      <td>0</td>\n",
       "      <td>0</td>\n",
       "      <td>0</td>\n",
       "      <td>0</td>\n",
       "      <td>0</td>\n",
       "      <td>0</td>\n",
       "      <td>0</td>\n",
       "      <td>0</td>\n",
       "      <td>0</td>\n",
       "    </tr>\n",
       "  </tbody>\n",
       "</table>\n",
       "<p>10 rows × 224 columns</p>\n",
       "</div>"
      ],
      "text/plain": [
       "    birthday;anonymized feature 0  birthday;anonymized feature 1  \\\n",
       "1                               0                              0   \n",
       "2                               0                              0   \n",
       "3                               0                              0   \n",
       "4                               0                              0   \n",
       "5                               0                              0   \n",
       "6                               0                              1   \n",
       "7                               0                              0   \n",
       "8                               0                              0   \n",
       "9                               0                              0   \n",
       "10                              0                              0   \n",
       "\n",
       "    birthday;anonymized feature 2  birthday;anonymized feature 3  \\\n",
       "1                               0                              0   \n",
       "2                               0                              0   \n",
       "3                               0                              0   \n",
       "4                               0                              0   \n",
       "5                               0                              0   \n",
       "6                               0                              0   \n",
       "7                               0                              0   \n",
       "8                               0                              0   \n",
       "9                               0                              0   \n",
       "10                              0                              0   \n",
       "\n",
       "    birthday;anonymized feature 4  birthday;anonymized feature 5  \\\n",
       "1                               0                              0   \n",
       "2                               0                              0   \n",
       "3                               0                              0   \n",
       "4                               0                              0   \n",
       "5                               0                              0   \n",
       "6                               0                              0   \n",
       "7                               0                              0   \n",
       "8                               0                              0   \n",
       "9                               0                              0   \n",
       "10                              0                              0   \n",
       "\n",
       "    birthday;anonymized feature 6  birthday;anonymized feature 7  \\\n",
       "1                               0                              0   \n",
       "2                               0                              0   \n",
       "3                               0                              1   \n",
       "4                               0                              0   \n",
       "5                               0                              0   \n",
       "6                               0                              0   \n",
       "7                               0                              0   \n",
       "8                               0                              0   \n",
       "9                               0                              0   \n",
       "10                              1                              0   \n",
       "\n",
       "    education;classes;id;anonymized feature 8  \\\n",
       "1                                           0   \n",
       "2                                           0   \n",
       "3                                           0   \n",
       "4                                           0   \n",
       "5                                           0   \n",
       "6                                           0   \n",
       "7                                           0   \n",
       "8                                           0   \n",
       "9                                           0   \n",
       "10                                          0   \n",
       "\n",
       "    education;classes;id;anonymized feature 9  ...  \\\n",
       "1                                           0  ...   \n",
       "2                                           0  ...   \n",
       "3                                           0  ...   \n",
       "4                                           0  ...   \n",
       "5                                           0  ...   \n",
       "6                                           0  ...   \n",
       "7                                           0  ...   \n",
       "8                                           0  ...   \n",
       "9                                           0  ...   \n",
       "10                                          0  ...   \n",
       "\n",
       "    work;start_date;anonymized feature 200  \\\n",
       "1                                        0   \n",
       "2                                        0   \n",
       "3                                        0   \n",
       "4                                        0   \n",
       "5                                        0   \n",
       "6                                        0   \n",
       "7                                        0   \n",
       "8                                        0   \n",
       "9                                        0   \n",
       "10                                       1   \n",
       "\n",
       "    work;start_date;anonymized feature 201  \\\n",
       "1                                        0   \n",
       "2                                        0   \n",
       "3                                        0   \n",
       "4                                        0   \n",
       "5                                        0   \n",
       "6                                        0   \n",
       "7                                        0   \n",
       "8                                        0   \n",
       "9                                        0   \n",
       "10                                       0   \n",
       "\n",
       "    work;start_date;anonymized feature 168  \\\n",
       "1                                        0   \n",
       "2                                        0   \n",
       "3                                        0   \n",
       "4                                        0   \n",
       "5                                        0   \n",
       "6                                        0   \n",
       "7                                        0   \n",
       "8                                        0   \n",
       "9                                        0   \n",
       "10                                       0   \n",
       "\n",
       "    work;start_date;anonymized feature 202  \\\n",
       "1                                        0   \n",
       "2                                        0   \n",
       "3                                        1   \n",
       "4                                        0   \n",
       "5                                        0   \n",
       "6                                        0   \n",
       "7                                        0   \n",
       "8                                        0   \n",
       "9                                        0   \n",
       "10                                       0   \n",
       "\n",
       "    work;start_date;anonymized feature 169  \\\n",
       "1                                        0   \n",
       "2                                        0   \n",
       "3                                        0   \n",
       "4                                        0   \n",
       "5                                        0   \n",
       "6                                        0   \n",
       "7                                        0   \n",
       "8                                        0   \n",
       "9                                        0   \n",
       "10                                       0   \n",
       "\n",
       "    work;start_date;anonymized feature 170  \\\n",
       "1                                        0   \n",
       "2                                        0   \n",
       "3                                        0   \n",
       "4                                        0   \n",
       "5                                        0   \n",
       "6                                        0   \n",
       "7                                        0   \n",
       "8                                        0   \n",
       "9                                        0   \n",
       "10                                       0   \n",
       "\n",
       "    work;start_date;anonymized feature 171  \\\n",
       "1                                        0   \n",
       "2                                        0   \n",
       "3                                        0   \n",
       "4                                        0   \n",
       "5                                        0   \n",
       "6                                        0   \n",
       "7                                        0   \n",
       "8                                        0   \n",
       "9                                        0   \n",
       "10                                       0   \n",
       "\n",
       "    work;start_date;anonymized feature 203  \\\n",
       "1                                        0   \n",
       "2                                        0   \n",
       "3                                        0   \n",
       "4                                        0   \n",
       "5                                        0   \n",
       "6                                        0   \n",
       "7                                        0   \n",
       "8                                        0   \n",
       "9                                        0   \n",
       "10                                       0   \n",
       "\n",
       "    work;start_date;anonymized feature 204  \\\n",
       "1                                        0   \n",
       "2                                        0   \n",
       "3                                        0   \n",
       "4                                        0   \n",
       "5                                        0   \n",
       "6                                        0   \n",
       "7                                        0   \n",
       "8                                        0   \n",
       "9                                        0   \n",
       "10                                       0   \n",
       "\n",
       "    work;with;id;anonymized feature 205  \n",
       "1                                     0  \n",
       "2                                     0  \n",
       "3                                     0  \n",
       "4                                     0  \n",
       "5                                     0  \n",
       "6                                     0  \n",
       "7                                     0  \n",
       "8                                     0  \n",
       "9                                     0  \n",
       "10                                    0  \n",
       "\n",
       "[10 rows x 224 columns]"
      ]
     },
     "execution_count": 4,
     "metadata": {},
     "output_type": "execute_result"
    }
   ],
   "source": [
    "# Load Features Values\n",
    "node_ids = []\n",
    "feature_data_rows = []\n",
    "expected_num_features = len(feature_names)\n",
    "\n",
    "try:\n",
    "    with open(feature_path, 'r') as f:\n",
    "        for line in f:\n",
    "            line = line.strip()\n",
    "            parts = line.split(' ')\n",
    "\n",
    "            node_id = int(parts[0])\n",
    "\n",
    "            feat_values = [int(val) for val in parts[1:]]\n",
    "\n",
    "            node_ids.append(node_id)\n",
    "            feature_data_rows.append(feat_values)\n",
    "\n",
    "except Exception as e:\n",
    "    print(f\"An error occurred while loading feature data: {e}\")\n",
    "\n",
    "# Create Dataframe\n",
    "features_df = pd.DataFrame(feature_data_rows, columns=feature_names, index=node_ids)\n",
    "features_df.head(10)"
   ]
  },
  {
   "cell_type": "markdown",
   "id": "3a8ab1be",
   "metadata": {},
   "source": [
    "The features DataFrame utilizes **one-hot encoding**, a technique used to represent categorical variables as binary vectors. This method converts each distinct category into a binary feature: a '1' indicates the presence of that category, while all other related elements are '0'.\n",
    "\n",
    "Occasionally, for a specific class of features, such as \"birthday,\" a node might exhibit all zeros across its categorical values. The most straightforward explanation for this is simply that the information for that particular user was either unavailable or not provided in the dataset.\n",
    "\n",
    "While columns representing the same feature class could be merged into a single column with multiple categorical values (e.g., birthday='6'), which would improve *human readability*, this approach presents drawbacks for Logistic Regression models. These models require *numerical input*, such as binary values. Converting to distinct, non-ordered categories would cause the model to mistakenly interpret a value like '7' as \"greater\" than '0' (e.g., birthday 7 as superior to birthday 0), despite the dataset not specifying any **ordinal relationship between categories**.\n",
    "\n",
    "Consequently, the DataFrame is maintained in its current one-hot encoded format. The primary drawback of this approach is an **increased dimensionality**, but it ensures the data is optimally prepared for logistic regression tasks."
   ]
  },
  {
   "cell_type": "markdown",
   "id": "56870b98",
   "metadata": {},
   "source": [
    "## Exploratory Data Analysis (EDA)"
   ]
  },
  {
   "cell_type": "markdown",
   "id": "3a695c88",
   "metadata": {},
   "source": [
    "### Graph Topology"
   ]
  },
  {
   "cell_type": "code",
   "execution_count": 5,
   "id": "2ecb8eee",
   "metadata": {},
   "outputs": [
    {
     "name": "stdout",
     "output_type": "stream",
     "text": [
      "Graph with 333 nodes and 2519 edges\n",
      "Average degree: 15.1\n",
      "Max degree: 77\n",
      "Min degree: 1\n",
      "Density: 0.0456\n"
     ]
    }
   ],
   "source": [
    "density = nx.density(G)\n",
    "\n",
    "print(G)\n",
    "print(f'Average degree: {sum(dict(G.degree).values()) / len(G.nodes):.1f}')\n",
    "print(f'Max degree: {max(dict(G.degree).values())}')\n",
    "print(f'Min degree: {min(dict(G.degree).values())}')\n",
    "print(f'Density: {density:.4f}')"
   ]
  },
  {
   "cell_type": "markdown",
   "id": "27db067c",
   "metadata": {},
   "source": [
    "---"
   ]
  },
  {
   "cell_type": "code",
   "execution_count": 6,
   "id": "0dbc790b",
   "metadata": {},
   "outputs": [
    {
     "name": "stdout",
     "output_type": "stream",
     "text": [
      "Number of connected components: 5\n",
      "Largest Connected Component: Graph with 324 nodes and 2514 edges\n"
     ]
    }
   ],
   "source": [
    "# Connected Components\n",
    "print(\"Number of connected components:\", nx.number_connected_components(G))\n",
    "\n",
    "G_lcc = G.subgraph(max(nx.connected_components(G), key=len)).copy()\n",
    "print(\"Largest Connected Component:\", G_lcc)"
   ]
  },
  {
   "cell_type": "markdown",
   "id": "c29743c2",
   "metadata": {},
   "source": [
    "This is an interesting result: I initially supposed that in an ego network there would have been a single connected component, while i actually found five. After further investigation i found that in the readme file provided with the dataset is specified that the ego node is removed from the ego graph. This seems to be common in ego networks: by definition the central ego node is always connected to all of its direct friends and there is no need to to explicitly list all its edges.\n",
    "\n",
    "This changes the goal of the prediction task to identifying potential new or missing connections between pairs of the ego's friends who are not currently connected.\n",
    "\n",
    "---"
   ]
  },
  {
   "cell_type": "code",
   "execution_count": 7,
   "id": "95eca242",
   "metadata": {},
   "outputs": [
    {
     "name": "stdout",
     "output_type": "stream",
     "text": [
      "Average Local Clustering: 0.5082\n",
      "Transitivity: 0.4259\n"
     ]
    }
   ],
   "source": [
    "# Clustering\n",
    "print(f'Average Local Clustering: {nx.average_clustering(G):.4f}')\n",
    "print(f'Transitivity: {nx.transitivity(G):.4f}')"
   ]
  },
  {
   "cell_type": "markdown",
   "id": "77ee3a88",
   "metadata": {},
   "source": [
    "---"
   ]
  },
  {
   "cell_type": "code",
   "execution_count": 8,
   "id": "34b86d22",
   "metadata": {},
   "outputs": [
    {
     "name": "stdout",
     "output_type": "stream",
     "text": [
      "Average Shortest Path Length in the LCC: 3.75\n",
      "Diameter of LCC: 11\n"
     ]
    }
   ],
   "source": [
    "# Distances\n",
    "print(f'Average Shortest Path Length in the LCC: {nx.average_shortest_path_length(G_lcc):.2f}')\n",
    "print('Diameter of LCC:', nx.diameter(G_lcc))"
   ]
  },
  {
   "cell_type": "markdown",
   "id": "c7ae9b14",
   "metadata": {},
   "source": [
    "This two values are probably much higher with the ego node removed.\n",
    "\n",
    "---"
   ]
  },
  {
   "cell_type": "code",
   "execution_count": 9,
   "id": "8d3d2a24",
   "metadata": {},
   "outputs": [
    {
     "name": "stdout",
     "output_type": "stream",
     "text": [
      "Degree Assortativity of LCC: 0.23\n"
     ]
    }
   ],
   "source": [
    "# Assortativity\n",
    "print(f'Degree Assortativity of LCC: {nx.degree_assortativity_coefficient(G_lcc):.2f}')"
   ]
  },
  {
   "cell_type": "markdown",
   "id": "d8af22de",
   "metadata": {},
   "source": [
    "This suggests that there is a slight tendency for high-degree nodes to connect to other high-degree nodes.\n",
    "\n",
    "---"
   ]
  },
  {
   "cell_type": "markdown",
   "id": "b273d4b1",
   "metadata": {},
   "source": [
    "#### Degree Distribution Analysis\n",
    "Looking at the degree distribution, we can make hypotheses on the performance of the Preferential Attachment measure for link prediction."
   ]
  },
  {
   "cell_type": "code",
   "execution_count": 10,
   "id": "5639283d",
   "metadata": {},
   "outputs": [
    {
     "data": {
      "image/png": "[encoded data removed]",
      "text/plain": [
       "<Figure size 640x480 with 1 Axes>"
      ]
     },
     "metadata": {},
     "output_type": "display_data"
    }
   ],
   "source": [
    "#Linear Scale Histogram\n",
    "plot.degree_count_plot(G_lcc, logy=False)"
   ]
  },
  {
   "cell_type": "markdown",
   "id": "aa75ca69",
   "metadata": {},
   "source": [
    "From this plot i can already assume that there isn't a clear power-law distribution (multiple bumps beyond the initial sharp peak) and preferential attachment might not be the dominant generative feature in this particular ego network, without needing to perform the log-log plot to confirm it. \n",
    "\n",
    "I will still consider degree-based features, because could always be relevant as demonstrated in previous notebook."
   ]
  },
  {
   "cell_type": "markdown",
   "id": "739b864e",
   "metadata": {},
   "source": [
    "### Node Features"
   ]
  },
  {
   "cell_type": "code",
   "execution_count": 11,
   "id": "aa8150be",
   "metadata": {},
   "outputs": [],
   "source": [
    "# Filter the feature dataframe with the nodes in the LCC\n",
    "lcc_feat_df = features_df[features_df.index.isin(G_lcc.nodes)]"
   ]
  },
  {
   "cell_type": "code",
   "execution_count": 12,
   "id": "aeb75f59",
   "metadata": {},
   "outputs": [
    {
     "name": "stdout",
     "output_type": "stream",
     "text": [
      "<class 'pandas.core.frame.DataFrame'>\n",
      "Index: 324 entries, 1 to 347\n",
      "Columns: 224 entries, birthday;anonymized feature 0 to work;with;id;anonymized feature 205\n",
      "dtypes: int64(224)\n",
      "memory usage: 569.5 KB\n"
     ]
    }
   ],
   "source": [
    "lcc_feat_df.info()"
   ]
  },
  {
   "cell_type": "code",
   "execution_count": 13,
   "id": "f63f06c2",
   "metadata": {},
   "outputs": [
    {
     "name": "stdout",
     "output_type": "stream",
     "text": [
      "-- Top 10 Most Frequent Features --\n",
      "locale;anonymized feature 127                       0.938272\n",
      "education;type;anonymized feature 53                0.675926\n",
      "gender;anonymized feature 78                        0.623457\n",
      "education;type;anonymized feature 55                0.608025\n",
      "education;school;id;anonymized feature 50           0.462963\n",
      "gender;anonymized feature 77                        0.358025\n",
      "education;type;anonymized feature 54                0.228395\n",
      "education;concentration;id;anonymized feature 14    0.228395\n",
      "education;year;id;anonymized feature 65             0.212963\n",
      "languages;id;anonymized feature 92                  0.194444\n",
      "dtype: float64\n",
      "\n",
      "-- Bottom 10 Top Frequent Features --\n",
      "work;end_date;anonymized feature 159       0.006173\n",
      "work;location;id;anonymized feature 175    0.006173\n",
      "work;start_date;anonymized feature 203     0.006173\n",
      "work;position;id;anonymized feature 187    0.006173\n",
      "work;position;id;anonymized feature 190    0.006173\n",
      "work;position;id;anonymized feature 191    0.006173\n",
      "work;with;id;anonymized feature 205        0.006173\n",
      "work;employer;id;anonymized feature 149    0.003086\n",
      "work;employer;id;anonymized feature 146    0.003086\n",
      "work;end_date;anonymized feature 160       0.003086\n",
      "dtype: float64\n"
     ]
    }
   ],
   "source": [
    "feature_frequency = lcc_feat_df.mean().sort_values(ascending=False)\n",
    "\n",
    "print(\"-- Top 10 Most Frequent Features --\")\n",
    "print(feature_frequency.head(10))\n",
    "print(\"\\n-- Bottom 10 Top Frequent Features --\")\n",
    "print(feature_frequency.tail(10))"
   ]
  },
  {
   "cell_type": "markdown",
   "id": "de3fd897",
   "metadata": {},
   "source": [
    "Some features are extremely common or extremely rare and could not be valuable for link prediction (might not provide a valid indicator or might lack of discriminative power, respectively)."
   ]
  },
  {
   "cell_type": "code",
   "execution_count": 14,
   "id": "76448db2",
   "metadata": {},
   "outputs": [
    {
     "data": {
      "image/png": "[encoded data removed]",
      "text/plain": [
       "<Figure size 1000x600 with 1 Axes>"
      ]
     },
     "metadata": {},
     "output_type": "display_data"
    }
   ],
   "source": [
    "# Distribution of Number of Active (=1) Features per Node\n",
    "num_active_features_per_node = lcc_feat_df.sum(axis=1)\n",
    "plt.figure(figsize=(10, 6))\n",
    "sns.histplot(num_active_features_per_node, bins=30) #type: ignore\n",
    "plt.title('Distribution of Number of Active (=1) Features Per Node')\n",
    "plt.xlabel('Number of Active Features')\n",
    "plt.ylabel('Number of Nodes')\n",
    "plt.grid(axis='y', alpha=0.75)\n",
    "plt.show()"
   ]
  },
  {
   "cell_type": "markdown",
   "id": "2986d694",
   "metadata": {},
   "source": [
    "Most nodes have very sparse feature vectors and few nodes have a rich feature profile (could be hubs).\n",
    "\n",
    "Having the features represented with one-hot encoding it could be useful to group them to make further analysis."
   ]
  },
  {
   "cell_type": "code",
   "execution_count": 15,
   "id": "46631539",
   "metadata": {},
   "outputs": [
    {
     "name": "stdout",
     "output_type": "stream",
     "text": [
      "Length:  21\n"
     ]
    },
    {
     "data": {
      "text/plain": [
       "{'birthday': 8,\n",
       " 'education;classes;id': 5,\n",
       " 'education;concentration;id': 7,\n",
       " 'education;degree;id': 4,\n",
       " 'education;school;id': 29,\n",
       " 'education;type': 3,\n",
       " 'education;with;id': 1,\n",
       " 'education;year;id': 16,\n",
       " 'first_name': 4,\n",
       " 'gender': 2,\n",
       " 'hometown;id': 11,\n",
       " 'languages;id': 14,\n",
       " 'last_name': 21,\n",
       " 'locale': 3,\n",
       " 'location;id': 12,\n",
       " 'work;employer;id': 20,\n",
       " 'work;end_date': 16,\n",
       " 'work;location;id': 12,\n",
       " 'work;position;id': 13,\n",
       " 'work;start_date': 22,\n",
       " 'work;with;id': 1}"
      ]
     },
     "execution_count": 15,
     "metadata": {},
     "output_type": "execute_result"
    }
   ],
   "source": [
    "feature_classes_values = {}\n",
    "\n",
    "for full_feature_name in lcc_feat_df.columns:\n",
    "    parts = full_feature_name.rsplit(';anonymized feature ', 1)\n",
    "\n",
    "    feature_base_name = parts[0].strip()\n",
    "\n",
    "    if feature_base_name not in feature_classes_values:\n",
    "        feature_classes_values[feature_base_name] = 0\n",
    "    feature_classes_values[feature_base_name]+=1\n",
    "\n",
    "print(\"Length: \", len(feature_classes_values))\n",
    "feature_classes_values"
   ]
  },
  {
   "cell_type": "markdown",
   "id": "9964f04d",
   "metadata": {},
   "source": [
    "There are basic features like first name, last name and gender but also specialized features like the ones relative to education and work. <br>\n",
    "The first thing that seems a bit off is the number of distinct values for some features, like `first_name` that has only 4. This is probably a result of the anonymization process, maybe through bucketing, but is indeed curious how they managed to fit all the first names into only 4 anonymized buckets. "
   ]
  },
  {
   "cell_type": "code",
   "execution_count": 16,
   "id": "1150fd39",
   "metadata": {},
   "outputs": [
    {
     "data": {
      "text/html": [
       "<div>\n",
       "<style scoped>\n",
       "    .dataframe tbody tr th:only-of-type {\n",
       "        vertical-align: middle;\n",
       "    }\n",
       "\n",
       "    .dataframe tbody tr th {\n",
       "        vertical-align: top;\n",
       "    }\n",
       "\n",
       "    .dataframe thead th {\n",
       "        text-align: right;\n",
       "    }\n",
       "</style>\n",
       "<table border=\"1\" class=\"dataframe\">\n",
       "  <thead>\n",
       "    <tr style=\"text-align: right;\">\n",
       "      <th></th>\n",
       "      <th>Feature Class</th>\n",
       "      <th>No Actives</th>\n",
       "      <th>At Least One Active</th>\n",
       "      <th>More Than One Active</th>\n",
       "    </tr>\n",
       "  </thead>\n",
       "  <tbody>\n",
       "    <tr>\n",
       "      <th>0</th>\n",
       "      <td>birthday</td>\n",
       "      <td>229</td>\n",
       "      <td>95</td>\n",
       "      <td>0</td>\n",
       "    </tr>\n",
       "    <tr>\n",
       "      <th>1</th>\n",
       "      <td>education;classes;id</td>\n",
       "      <td>313</td>\n",
       "      <td>11</td>\n",
       "      <td>0</td>\n",
       "    </tr>\n",
       "    <tr>\n",
       "      <th>2</th>\n",
       "      <td>education;concentration;id</td>\n",
       "      <td>231</td>\n",
       "      <td>93</td>\n",
       "      <td>8</td>\n",
       "    </tr>\n",
       "    <tr>\n",
       "      <th>3</th>\n",
       "      <td>education;degree;id</td>\n",
       "      <td>303</td>\n",
       "      <td>21</td>\n",
       "      <td>4</td>\n",
       "    </tr>\n",
       "    <tr>\n",
       "      <th>4</th>\n",
       "      <td>education;school;id</td>\n",
       "      <td>111</td>\n",
       "      <td>213</td>\n",
       "      <td>56</td>\n",
       "    </tr>\n",
       "    <tr>\n",
       "      <th>5</th>\n",
       "      <td>education;type</td>\n",
       "      <td>81</td>\n",
       "      <td>243</td>\n",
       "      <td>202</td>\n",
       "    </tr>\n",
       "    <tr>\n",
       "      <th>6</th>\n",
       "      <td>education;with;id</td>\n",
       "      <td>322</td>\n",
       "      <td>2</td>\n",
       "      <td>0</td>\n",
       "    </tr>\n",
       "    <tr>\n",
       "      <th>7</th>\n",
       "      <td>education;year;id</td>\n",
       "      <td>131</td>\n",
       "      <td>193</td>\n",
       "      <td>127</td>\n",
       "    </tr>\n",
       "    <tr>\n",
       "      <th>8</th>\n",
       "      <td>first_name</td>\n",
       "      <td>314</td>\n",
       "      <td>10</td>\n",
       "      <td>0</td>\n",
       "    </tr>\n",
       "    <tr>\n",
       "      <th>9</th>\n",
       "      <td>gender</td>\n",
       "      <td>6</td>\n",
       "      <td>318</td>\n",
       "      <td>0</td>\n",
       "    </tr>\n",
       "    <tr>\n",
       "      <th>10</th>\n",
       "      <td>hometown;id</td>\n",
       "      <td>278</td>\n",
       "      <td>46</td>\n",
       "      <td>0</td>\n",
       "    </tr>\n",
       "    <tr>\n",
       "      <th>11</th>\n",
       "      <td>languages;id</td>\n",
       "      <td>243</td>\n",
       "      <td>81</td>\n",
       "      <td>51</td>\n",
       "    </tr>\n",
       "    <tr>\n",
       "      <th>12</th>\n",
       "      <td>last_name</td>\n",
       "      <td>272</td>\n",
       "      <td>52</td>\n",
       "      <td>0</td>\n",
       "    </tr>\n",
       "    <tr>\n",
       "      <th>13</th>\n",
       "      <td>locale</td>\n",
       "      <td>4</td>\n",
       "      <td>320</td>\n",
       "      <td>0</td>\n",
       "    </tr>\n",
       "    <tr>\n",
       "      <th>14</th>\n",
       "      <td>location;id</td>\n",
       "      <td>172</td>\n",
       "      <td>152</td>\n",
       "      <td>0</td>\n",
       "    </tr>\n",
       "    <tr>\n",
       "      <th>15</th>\n",
       "      <td>work;employer;id</td>\n",
       "      <td>242</td>\n",
       "      <td>82</td>\n",
       "      <td>32</td>\n",
       "    </tr>\n",
       "    <tr>\n",
       "      <th>16</th>\n",
       "      <td>work;end_date</td>\n",
       "      <td>211</td>\n",
       "      <td>113</td>\n",
       "      <td>47</td>\n",
       "    </tr>\n",
       "    <tr>\n",
       "      <th>17</th>\n",
       "      <td>work;location;id</td>\n",
       "      <td>238</td>\n",
       "      <td>86</td>\n",
       "      <td>24</td>\n",
       "    </tr>\n",
       "    <tr>\n",
       "      <th>18</th>\n",
       "      <td>work;position;id</td>\n",
       "      <td>264</td>\n",
       "      <td>60</td>\n",
       "      <td>12</td>\n",
       "    </tr>\n",
       "    <tr>\n",
       "      <th>19</th>\n",
       "      <td>work;start_date</td>\n",
       "      <td>192</td>\n",
       "      <td>132</td>\n",
       "      <td>66</td>\n",
       "    </tr>\n",
       "    <tr>\n",
       "      <th>20</th>\n",
       "      <td>work;with;id</td>\n",
       "      <td>322</td>\n",
       "      <td>2</td>\n",
       "      <td>0</td>\n",
       "    </tr>\n",
       "  </tbody>\n",
       "</table>\n",
       "</div>"
      ],
      "text/plain": [
       "                 Feature Class  No Actives  At Least One Active  \\\n",
       "0                     birthday         229                   95   \n",
       "1         education;classes;id         313                   11   \n",
       "2   education;concentration;id         231                   93   \n",
       "3          education;degree;id         303                   21   \n",
       "4          education;school;id         111                  213   \n",
       "5               education;type          81                  243   \n",
       "6            education;with;id         322                    2   \n",
       "7            education;year;id         131                  193   \n",
       "8                   first_name         314                   10   \n",
       "9                       gender           6                  318   \n",
       "10                 hometown;id         278                   46   \n",
       "11                languages;id         243                   81   \n",
       "12                   last_name         272                   52   \n",
       "13                      locale           4                  320   \n",
       "14                 location;id         172                  152   \n",
       "15            work;employer;id         242                   82   \n",
       "16               work;end_date         211                  113   \n",
       "17            work;location;id         238                   86   \n",
       "18            work;position;id         264                   60   \n",
       "19             work;start_date         192                  132   \n",
       "20                work;with;id         322                    2   \n",
       "\n",
       "    More Than One Active  \n",
       "0                      0  \n",
       "1                      0  \n",
       "2                      8  \n",
       "3                      4  \n",
       "4                     56  \n",
       "5                    202  \n",
       "6                      0  \n",
       "7                    127  \n",
       "8                      0  \n",
       "9                      0  \n",
       "10                     0  \n",
       "11                    51  \n",
       "12                     0  \n",
       "13                     0  \n",
       "14                     0  \n",
       "15                    32  \n",
       "16                    47  \n",
       "17                    24  \n",
       "18                    12  \n",
       "19                    66  \n",
       "20                     0  "
      ]
     },
     "execution_count": 16,
     "metadata": {},
     "output_type": "execute_result"
    }
   ],
   "source": [
    "columns_grouped_by_feature_class = {}\n",
    "\n",
    "for column_name in lcc_feat_df.columns:\n",
    "    match = re.search(r';anonymized feature \\d+$', column_name)\n",
    "\n",
    "    if match:\n",
    "        feature_base_name = column_name[:match.start()].strip()\n",
    "\n",
    "    if feature_base_name not in columns_grouped_by_feature_class:\n",
    "        columns_grouped_by_feature_class[feature_base_name] = []\n",
    "    columns_grouped_by_feature_class[feature_base_name].append(column_name)\n",
    "\n",
    "tmp_data = []\n",
    "\n",
    "for feature_class, columns in columns_grouped_by_feature_class.items():\n",
    "    count = lcc_feat_df[columns].sum(axis=1)\n",
    "\n",
    "    no_actives = (count == 0).sum()\n",
    "    at_least_one_active = (count > 0).sum()\n",
    "    more_than_one_active = (count > 1).sum()\n",
    "\n",
    "    tmp_data.append({\n",
    "        'Feature Class': feature_class,\n",
    "        'No Actives': no_actives,\n",
    "        'At Least One Active': at_least_one_active,\n",
    "        'More Than One Active': more_than_one_active\n",
    "    })\n",
    "\n",
    "feature_classes_actives = pd.DataFrame(tmp_data)\n",
    "feature_classes_actives"
   ]
  },
  {
   "cell_type": "markdown",
   "id": "fab21224",
   "metadata": {},
   "source": [
    "This table gives other valuable insights on what types of data this dataset had originally:\n",
    "- Some feature classes are **exclusive** (birthday, first name, gender, ...) but others are not (languages, education type, work location, ...).\n",
    "- Some feature classes have no active values (**no data**) for many nodes, confirming what already emerged while creating the dataframe.\n",
    "\n",
    "Also, the last observation done on the first name values, could actually be *wrong*: the table showed that 314 out of 324 nodes have no data for the first name feature, potentially meaning that no bucketing has been made, and, given the high number of \"**No Actives**\" across all feature classes, this really seems to be the case of **data missingness**. *Why?*\n",
    "\n",
    "Anyway, this table combined with the top and bottom most frequent features gives some strong indicators of which feature could be the most effective to select."
   ]
  },
  {
   "cell_type": "markdown",
   "id": "4815812d",
   "metadata": {},
   "source": [
    "## Feature Selection"
   ]
  },
  {
   "cell_type": "markdown",
   "id": "39dc5b2f",
   "metadata": {},
   "source": [
    "### Topological Features"
   ]
  },
  {
   "cell_type": "code",
   "execution_count": 17,
   "id": "2b5d8f3a",
   "metadata": {},
   "outputs": [],
   "source": [
    "def build_topological_feature_vector(pairs, G, features=['cn', 'jc', 'aa', 'pa', 'ra']):\n",
    "    feature_data = {}\n",
    "\n",
    "    if 'cn' in features:\n",
    "        feature_data['cn'] = [len(list(nx.common_neighbors(G, u, v))) for u, v in pairs]\n",
    "\n",
    "    if 'jc' in features:\n",
    "        feature_data['jc'] = [coeff for _, _, coeff in nx.jaccard_coefficient(G, pairs)]\n",
    "\n",
    "    if 'aa' in features:\n",
    "        aa_scores = []\n",
    "        for u_node, v_node in pairs:\n",
    "            try:\n",
    "                _, _, score = list(nx.adamic_adar_index(G, [(u_node, v_node)]))[0]\n",
    "                aa_scores.append(score)\n",
    "            except (ZeroDivisionError, StopIteration):\n",
    "                aa_scores.append(0.0)\n",
    "        feature_data['aa'] = aa_scores\n",
    "\n",
    "    if 'pa' in features:\n",
    "        feature_data['pa'] = [coeff for _, _, coeff in nx.preferential_attachment(G, pairs)]\n",
    "\n",
    "    if 'ra' in features:\n",
    "        feature_data['ra'] = [coeff for _, _, coeff in nx.resource_allocation_index(G, pairs)]\n",
    "\n",
    "    # Combine feature\n",
    "    feature_vectors = []\n",
    "    for i in range(len(pairs)):\n",
    "        vector = [feature_data[feat][i] for feat in features]\n",
    "        feature_vectors.append(vector)\n",
    "\n",
    "    return feature_vectors"
   ]
  },
  {
   "cell_type": "markdown",
   "id": "d1cf8b5f",
   "metadata": {},
   "source": [
    "The initial baseline will be formed by the 5 topological features already used in other notebooks."
   ]
  },
  {
   "cell_type": "code",
   "execution_count": 18,
   "id": "e08f8e62",
   "metadata": {},
   "outputs": [],
   "source": [
    "# Features\n",
    "topological_features = ['cn', 'jc', 'aa', 'pa', 'ra']\n",
    "\n",
    "# Create training and testing sets\n",
    "X_train, X_test, y_train, y_test = splits.create_train_test_split(\n",
    "    G_lcc,\n",
    "    lambda pairs, G_train_graph: build_topological_feature_vector(pairs, G_train_graph, topological_features),\n",
    "    lambda: ns.common_neighbors_hard_negative_sampling(G_lcc)\n",
    ")"
   ]
  },
  {
   "cell_type": "markdown",
   "id": "72a9df5a",
   "metadata": {},
   "source": [
    "---\n",
    "Feature Scaling is a critical step for Logistic Regression. The weight learned by the model are directly influenced by the scale of the features, this makes the raw coefficients incomparable. The StandardScaler transform each feature to have a mean of 0 and a standard deviation of 1."
   ]
  },
  {
   "cell_type": "code",
   "execution_count": 19,
   "id": "cb74080e",
   "metadata": {},
   "outputs": [],
   "source": [
    "def scale_data(X_train, X_test):\n",
    "    scaler = StandardScaler()\n",
    "    X_train_scaled = scaler.fit_transform(X_train) # type: ignore\n",
    "    X_test_scaled = scaler.transform(X_test)\n",
    "    return X_train_scaled, X_test_scaled"
   ]
  },
  {
   "cell_type": "markdown",
   "id": "511a734a",
   "metadata": {},
   "source": [
    "---\n",
    "Now two Logistic Regression models will be trained to compare two different types of regularization: L2 and L1."
   ]
  },
  {
   "cell_type": "code",
   "execution_count": 20,
   "id": "f18d3ad3",
   "metadata": {},
   "outputs": [],
   "source": [
    "#Scale the data\n",
    "X_train_scaled, X_test_scaled = scale_data(X_train, X_test)"
   ]
  },
  {
   "cell_type": "code",
   "execution_count": 21,
   "id": "ef8fe171",
   "metadata": {},
   "outputs": [
    {
     "name": "stdout",
     "output_type": "stream",
     "text": [
      "Logistic Regression with L2 Regularization (Ridge)\n",
      "Features:      ['cn', 'jc', 'aa', 'pa', 'ra']\n",
      "Coefficients:  [-0.66862857 -0.44571748  0.11018249 -0.19465749  1.89131588]\n",
      "AUC-PR Score: 0.7571\n"
     ]
    }
   ],
   "source": [
    "# Train Logistic Regression with L2 Regularization\n",
    "lr_l2 = LogisticRegression(penalty='l2', random_state=42, max_iter=1000)\n",
    "lr_l2.fit(X_train_scaled, y_train)\n",
    "\n",
    "y_pred_lr_l2 = lr_l2.predict_proba(X_test_scaled)[:, 1] # type: ignore\n",
    "coeffs_lr_l2 = lr_l2.coef_[0]\n",
    "\n",
    "print('Logistic Regression with L2 Regularization (Ridge)')\n",
    "print('Features:     ', topological_features)\n",
    "print('Coefficients: ', coeffs_lr_l2)\n",
    "print(f'AUC-PR Score: {average_precision_score(y_test, y_pred_lr_l2):.4f}')"
   ]
  },
  {
   "cell_type": "code",
   "execution_count": 22,
   "id": "7f50f484",
   "metadata": {},
   "outputs": [
    {
     "name": "stdout",
     "output_type": "stream",
     "text": [
      "Logistic Regression with L1 Regularization (Lasso)\n",
      "Features:      ['cn', 'jc', 'aa', 'pa', 'ra']\n",
      "Coefficients:  [-0.58162816 -0.32394267  0.         -0.1197314   1.73955328]\n",
      "AUC-PR Score: 0.7593\n"
     ]
    }
   ],
   "source": [
    "# Train Logistic Regression with L1 Regularization\n",
    "lr_l1 = LogisticRegression(penalty='l1', solver='liblinear', C=0.1, random_state=42, max_iter=1000)\n",
    "lr_l1.fit(X_train_scaled, y_train)\n",
    "\n",
    "y_pred_lr_l1 = lr_l1.predict_proba(X_test_scaled)[:, 1] # type: ignore\n",
    "coeffs_lr_l1 = lr_l1.coef_[0]\n",
    "\n",
    "print('Logistic Regression with L1 Regularization (Lasso)')\n",
    "print('Features:     ', topological_features)\n",
    "print('Coefficients: ', coeffs_lr_l1)\n",
    "print(f'AUC-PR Score: {average_precision_score(y_test, y_pred_lr_l1):.4f}')"
   ]
  },
  {
   "cell_type": "markdown",
   "id": "90c6d8cd",
   "metadata": {},
   "source": [
    "The results from the two models reveals that:\n",
    "- L2 (Ridge): This model achieved an AUC-PR of ~0.76. It kept all five features but produced counter-intuitive negative coefficients for `cn`, `jc`, and `pa`. This is a symptom of **multicollinearity**, where the model is confused by the redundant information in the features and cannot assign stable, meaningful weights.\n",
    "- L1 (Lasso): This model achieved a similar score. However, it has set the coefficient for `aa` to exactly *0.0*. This happens because, given the other features, `aa` is the most redundant and can be removed without harming performance.\n",
    "\n",
    "This comparison strongly suggests that our feature set is too complex and redundant for a linear model.\n",
    "\n",
    "---"
   ]
  },
  {
   "cell_type": "markdown",
   "id": "e8d6873a",
   "metadata": {},
   "source": [
    "To confirm the obtained results and the diagnosis made, we can try to train a Random Forest and see the feature importance scores."
   ]
  },
  {
   "cell_type": "code",
   "execution_count": 23,
   "id": "eab6a8e9",
   "metadata": {},
   "outputs": [
    {
     "name": "stdout",
     "output_type": "stream",
     "text": [
      "Random Forest\n",
      "Features:      ['cn', 'jc', 'aa', 'pa', 'ra']\n",
      "Importances:   [0.06605142 0.18098669 0.22225856 0.22820369 0.30249964]\n",
      "AUC-PR Score: 0.8116\n"
     ]
    }
   ],
   "source": [
    "# Train Random Forest\n",
    "rf = RandomForestClassifier(n_estimators=50, random_state=42)\n",
    "rf.fit(X_train_scaled, y_train)\n",
    "\n",
    "y_pred_rf = rf.predict_proba(X_test_scaled)[:, 1]\n",
    "auc_pr_rf = average_precision_score(y_test, y_pred_rf)\n",
    "\n",
    "print('Random Forest')\n",
    "print('Features:     ', topological_features)\n",
    "print('Importances:  ', rf.feature_importances_)\n",
    "print(f'AUC-PR Score: {average_precision_score(y_test, y_pred_rf):.4f}')"
   ]
  },
  {
   "cell_type": "markdown",
   "id": "3a3fd46c",
   "metadata": {},
   "source": [
    "The Random Forest model results support the findings:\n",
    "- The AUC-PR score is higher than Logistic Regression models proving the features are valuable when used by a suitable model.\n",
    "- The importances clearly show that Resource Allocation (`ra`) is the single most powerful predictor.\n",
    "---"
   ]
  },
  {
   "cell_type": "markdown",
   "id": "cd252df5",
   "metadata": {},
   "source": [
    "Given that in all trained models `ra` has resulted the best predictor and is also the only one that has a positive coefficient with L1 regularization, we can opt to select this single feature for the final model."
   ]
  },
  {
   "cell_type": "code",
   "execution_count": 24,
   "id": "66a9695f",
   "metadata": {},
   "outputs": [],
   "source": [
    "# Features\n",
    "topological_features = ['ra']\n",
    "\n",
    "# Create training and testing sets\n",
    "X_train, X_test, y_train, y_test = splits.create_train_test_split(\n",
    "    G_lcc,\n",
    "    lambda pairs, G_train_graph: build_topological_feature_vector(pairs, G_train_graph, topological_features),\n",
    "    lambda: ns.common_neighbors_hard_negative_sampling(G_lcc)\n",
    ")\n",
    "\n",
    "# Scale the data\n",
    "X_train_scaled, X_test_scaled = scale_data(X_train, X_test)"
   ]
  },
  {
   "cell_type": "code",
   "execution_count": 25,
   "id": "915a8aad",
   "metadata": {},
   "outputs": [
    {
     "name": "stdout",
     "output_type": "stream",
     "text": [
      "Logistic Regression with L2 Regularization (Ridge)\n",
      "Features:      ['ra']\n",
      "Coefficients:  [0.95251243]\n",
      "AUC-PR Score: 0.7623\n"
     ]
    }
   ],
   "source": [
    "# Train Logistic Regression\n",
    "lr_l2 = LogisticRegression(random_state=42, max_iter=1000)\n",
    "lr_l2.fit(X_train_scaled, y_train)\n",
    "\n",
    "y_pred_lr_l2 = lr_l2.predict_proba(X_test_scaled)[:, 1] # type: ignore\n",
    "coeffs_lr_l2 = lr_l2.coef_[0]\n",
    "\n",
    "print('Logistic Regression with L2 Regularization (Ridge)')\n",
    "print('Features:     ', topological_features)\n",
    "print('Coefficients: ', coeffs_lr_l2)\n",
    "print(f'AUC-PR Score: {average_precision_score(y_test, y_pred_lr_l2):.4f}')"
   ]
  },
  {
   "cell_type": "markdown",
   "id": "b595409a",
   "metadata": {},
   "source": [
    "As expected the single-feature Linear Regression model obtained a slightly higher score than the previous models, so, as topological feature, only `ra` is selected.\n",
    "\n",
    "---"
   ]
  },
  {
   "cell_type": "markdown",
   "id": "fd047134",
   "metadata": {},
   "source": [
    "### Node Features"
   ]
  },
  {
   "cell_type": "markdown",
   "id": "c27bf600",
   "metadata": {},
   "source": [
    "With 224 features and only 324 nodes, the model has a high risk of overfitting instead of learning true patterns."
   ]
  },
  {
   "cell_type": "markdown",
   "id": "ba9709a0",
   "metadata": {},
   "source": [
    "We can start by removing features classes that are present in very few nodes, because are unlikely to generalize well."
   ]
  },
  {
   "cell_type": "code",
   "execution_count": 26,
   "id": "f07bed32",
   "metadata": {},
   "outputs": [
    {
     "name": "stdout",
     "output_type": "stream",
     "text": [
      "Removed columns:  11\n"
     ]
    },
    {
     "data": {
      "text/plain": [
       "['education;classes;id;anonymized feature 8',\n",
       " 'education;classes;id;anonymized feature 9',\n",
       " 'education;classes;id;anonymized feature 10',\n",
       " 'education;classes;id;anonymized feature 11',\n",
       " 'education;classes;id;anonymized feature 12',\n",
       " 'education;with;id;anonymized feature 56',\n",
       " 'first_name;anonymized feature 73',\n",
       " 'first_name;anonymized feature 74',\n",
       " 'first_name;anonymized feature 75',\n",
       " 'first_name;anonymized feature 76',\n",
       " 'work;with;id;anonymized feature 205']"
      ]
     },
     "execution_count": 26,
     "metadata": {},
     "output_type": "execute_result"
    }
   ],
   "source": [
    "heuristic_threshold = 0.95 # Searching for feature classes that have this percentage of 'No Actives' values (over the total entries)\n",
    "\n",
    "tmp = feature_classes_actives[feature_classes_actives['No Actives']>(lcc_feat_df.shape[0] * heuristic_threshold)]\n",
    "features_classes_to_remove = tmp['Feature Class']\n",
    "\n",
    "columns_to_remove = [col for col in lcc_feat_df.columns if any(col.startswith(prefix) for prefix in features_classes_to_remove)]\n",
    "\n",
    "selected_features_df = lcc_feat_df.drop(columns=columns_to_remove)\n",
    "\n",
    "print('Removed columns: ', len(columns_to_remove))\n",
    "columns_to_remove"
   ]
  },
  {
   "cell_type": "markdown",
   "id": "22b24fec",
   "metadata": {},
   "source": [
    "Some columns have been removed: we can be almost certain that those feature will not improve the model prediction and would probably have added some noise.\n",
    "\n",
    "---\n",
    "\n",
    "To enable our model to predict a link between a pair of nodes, we must convert their individual node feature vectors into a single combined feature vector. After some testing the choice of the combination technique falls on **L1 Distance (Manhattan Distance)** that calculates a vector where each element is 1 if the nodes disagree on a specific attribute and 0 if they agree (**homophily**)."
   ]
  },
  {
   "cell_type": "code",
   "execution_count": 27,
   "id": "3f44c77b",
   "metadata": {},
   "outputs": [],
   "source": [
    "def build_combined_feature_vector(pairs, G, feature_df, topological_features=[]):\n",
    "    feature_vectors = []\n",
    "\n",
    "    for u, v in pairs:\n",
    "        topological_features_vector = build_topological_feature_vector([(u, v)], G, features=topological_features)[0]\n",
    "\n",
    "        # L1 Distance (Manhattan Distance)\n",
    "        features_u = feature_df.loc[u]\n",
    "        features_v = feature_df.loc[v]\n",
    "        node_pair_vector = np.abs(features_u - features_v).tolist()\n",
    "\n",
    "        # Combine Topological and Node features vectors\n",
    "        combined_vector = topological_features_vector + node_pair_vector\n",
    "        feature_vectors.append(combined_vector)\n",
    "\n",
    "    return feature_vectors"
   ]
  },
  {
   "cell_type": "code",
   "execution_count": 28,
   "id": "f443e157",
   "metadata": {},
   "outputs": [],
   "source": [
    "# Create training and testing sets\n",
    "X_train, X_test, y_train, y_test = splits.create_train_test_split(\n",
    "    G_lcc,\n",
    "    lambda pairs, G_train_graph: build_combined_feature_vector(pairs, G_train_graph, selected_features_df, topological_features=['ra']),\n",
    "    lambda: ns.common_neighbors_hard_negative_sampling(G_lcc)\n",
    ")\n",
    "\n",
    "# Scale the data\n",
    "X_train_scaled, X_test_scaled = scale_data(X_train, X_test)"
   ]
  },
  {
   "cell_type": "markdown",
   "id": "91243099",
   "metadata": {},
   "source": [
    "The features can be selected more by using L1 Regularization: the features that gets coefficients =0 are excluded."
   ]
  },
  {
   "cell_type": "code",
   "execution_count": 29,
   "id": "11be4766",
   "metadata": {},
   "outputs": [
    {
     "name": "stdout",
     "output_type": "stream",
     "text": [
      "Logistic Regression with L1 Regularization\n",
      "AUC-PR Score:  0.7865\n",
      "Features sorted by absolute value of coefficient (Total features: 140): \n",
      "                                       feature  coefficient\n",
      "0                                           ra     0.884041\n",
      "199     work;start_date;anonymized feature 162     0.252371\n",
      "149    work;employer;id;anonymized feature 155    -0.197752\n",
      "194     work;start_date;anonymized feature 195     0.166460\n",
      "170    work;location;id;anonymized feature 132    -0.158082\n",
      "68                gender;anonymized feature 77    -0.133408\n",
      "182    work;position;id;anonymized feature 184    -0.122653\n",
      "166       work;end_date;anonymized feature 172    -0.121451\n",
      "27   education;school;id;anonymized feature 31     0.113245\n",
      "126         location;id;anonymized feature 135    -0.106955\n",
      "2                birthday;anonymized feature 1     0.101330\n",
      "31   education;school;id;anonymized feature 35     0.100765\n",
      "42   education;school;id;anonymized feature 46    -0.099978\n",
      "32   education;school;id;anonymized feature 36     0.094528\n",
      "62     education;year;id;anonymized feature 67    -0.094175\n"
     ]
    }
   ],
   "source": [
    "# Train Logistic Regression with L1 Regularization\n",
    "l1_selector = LogisticRegression(penalty='l1', solver='liblinear', C=0.1, random_state=42, max_iter=1000)\n",
    "l1_selector.fit(X_train_scaled, y_train)\n",
    "\n",
    "# Get the features with non-zero coefficients\n",
    "l1_coeffs = l1_selector.coef_[0]\n",
    "feature_names = topological_features + selected_features_df.columns.tolist()\n",
    "important_features_l1 = pd.DataFrame({\n",
    "    'feature': feature_names,\n",
    "    'coefficient': l1_coeffs\n",
    "}).query('coefficient != 0').sort_values('coefficient', key=abs, ascending=False)\n",
    "\n",
    "y_pred_l1_selector = l1_selector.predict_proba(X_test_scaled)[:, 1]\n",
    "\n",
    "print('Logistic Regression with L1 Regularization')\n",
    "print(f'AUC-PR Score:  {average_precision_score(y_test, y_pred_l1_selector):.4f}')\n",
    "print(f'Features sorted by absolute value of coefficient (Total features: {important_features_l1.shape[0]}): ')\n",
    "print(important_features_l1.head(15))"
   ]
  },
  {
   "cell_type": "markdown",
   "id": "99f69275",
   "metadata": {},
   "source": [
    "From this model we can note that:\n",
    "- The AUC-PR score has improved.\n",
    "- Another good chunk of features can be removed as they have got a coefficient equal to zero. \n",
    "- Only few feature have a significant weight, with `ra` being dominant.\n",
    "\n",
    "---\n",
    "We can again compare the results with a Random Forest. "
   ]
  },
  {
   "cell_type": "code",
   "execution_count": 30,
   "id": "84051bee",
   "metadata": {},
   "outputs": [
    {
     "name": "stdout",
     "output_type": "stream",
     "text": [
      "Random Forest\n",
      "AUC-PR Score: 0.7570\n",
      "Features sorted by absolute value of coefficient: \n",
      "                                              feature  importance\n",
      "0                                                  ra    0.273225\n",
      "68                       gender;anonymized feature 77    0.019289\n",
      "69                       gender;anonymized feature 78    0.018368\n",
      "129                location;id;anonymized feature 137    0.017214\n",
      "123                location;id;anonymized feature 132    0.013802\n",
      "54            education;year;id;anonymized feature 59    0.013015\n",
      "49               education;type;anonymized feature 53    0.012948\n",
      "46          education;school;id;anonymized feature 50    0.012841\n",
      "83                 languages;id;anonymized feature 92    0.012671\n",
      "51               education;type;anonymized feature 55    0.011934\n",
      "10   education;concentration;id;anonymized feature 14    0.011886\n",
      "8                       birthday;anonymized feature 7    0.011744\n",
      "103                  last_name;anonymized feature 112    0.011587\n",
      "136           work;employer;id;anonymized feature 144    0.010095\n",
      "60            education;year;id;anonymized feature 65    0.009937\n"
     ]
    }
   ],
   "source": [
    "# Train Random Forest\n",
    "rf = RandomForestClassifier(n_estimators=50, random_state=42, n_jobs=-1)\n",
    "rf.fit(X_train_scaled, y_train)\n",
    "\n",
    "# Get the features importance\n",
    "important_features_rf = pd.DataFrame({\n",
    "    'feature': feature_names,\n",
    "    'importance': rf.feature_importances_\n",
    "}).sort_values('importance', ascending=False)\n",
    "\n",
    "y_pred_rf = rf.predict_proba(X_test_scaled)[:, 1]\n",
    "\n",
    "print('Random Forest')\n",
    "print(f'AUC-PR Score: {average_precision_score(y_test, y_pred_rf):.4f}')\n",
    "print('Features sorted by absolute value of coefficient: ')\n",
    "print(important_features_rf.head(15))"
   ]
  },
  {
   "cell_type": "markdown",
   "id": "0eae18f9",
   "metadata": {},
   "source": [
    "The Random Forest feature importances were consistent with the Logistic Regression coefficients, by highlighting the dominance of `ra` as predictive feature.\n",
    "\n",
    "However, while the Logistic Regression improved its score, the Random Forest lost some points and got a lower score than Logistic Regression. This could have caused by the Random Forest feature subsampling: selecting a random set of feature to create each decision tree, while having only few features that are strong predictors resulted in many trees built with only weak and noisy features, and their poor results averaged in the final result, degrading the overall score.\n",
    "\n",
    "---\n",
    "The next step is trying to remove the features that received a 0 coefficient form L1 Regularization."
   ]
  },
  {
   "cell_type": "code",
   "execution_count": 31,
   "id": "6203d0fe",
   "metadata": {},
   "outputs": [
    {
     "name": "stdout",
     "output_type": "stream",
     "text": [
      "Selected 140 features with absolute coefficient > 0.0\n"
     ]
    }
   ],
   "source": [
    "# Threshold variable for testing different values\n",
    "coefficient_threshold = 0.0\n",
    "\n",
    "# Select features with absolute coefficient > coefficient_threshold\n",
    "selected_features = important_features_l1[\n",
    "    abs(important_features_l1['coefficient']) > coefficient_threshold\n",
    "]['feature'].tolist()\n",
    "\n",
    "# Split Topological features from Node features\n",
    "selected_topological_features = [f for f in selected_features if f in topological_features]\n",
    "selected_node_features = [f for f in selected_features if f in selected_features_df.columns]\n",
    "selected_node_features_df = selected_features_df[selected_node_features]\n",
    "\n",
    "print(f'Selected {len(selected_features)} features with absolute coefficient > {coefficient_threshold}')"
   ]
  },
  {
   "cell_type": "code",
   "execution_count": 32,
   "id": "732e0e75",
   "metadata": {},
   "outputs": [],
   "source": [
    "# Create the new training and testing sets using only the champion features\n",
    "X_train, X_test, y_train, y_test = splits.create_train_test_split(\n",
    "    G_lcc,\n",
    "    lambda pairs, G_train_graph: build_combined_feature_vector(\n",
    "        pairs,\n",
    "        G_train_graph,\n",
    "        selected_node_features_df,\n",
    "        topological_features=selected_topological_features\n",
    "    ),\n",
    "    lambda: ns.common_neighbors_hard_negative_sampling(G_lcc)\n",
    ")\n",
    "\n",
    "# Scale the data\n",
    "X_train_scaled, X_test_scaled = scale_data(X_train, X_test)"
   ]
  },
  {
   "cell_type": "code",
   "execution_count": 33,
   "id": "7917f18f",
   "metadata": {},
   "outputs": [
    {
     "name": "stdout",
     "output_type": "stream",
     "text": [
      "Logistic Regression\n",
      "AUC-PR Score: 0.8070\n"
     ]
    }
   ],
   "source": [
    "# Train Logistic Regression\n",
    "lr = LogisticRegression(random_state=42, max_iter=1000)\n",
    "lr.fit(X_train_scaled, y_train)\n",
    "\n",
    "y_pred_final = lr.predict_proba(X_test_scaled)[:, 1]\n",
    "auc_pr_final = average_precision_score(y_test, y_pred_final)\n",
    "\n",
    "print('Logistic Regression')\n",
    "print(f'AUC-PR Score: {auc_pr_final:.4f}')"
   ]
  },
  {
   "cell_type": "markdown",
   "id": "bbf34d25",
   "metadata": {},
   "source": [
    "## Conclusions"
   ]
  },
  {
   "cell_type": "markdown",
   "id": "8737b2a1",
   "metadata": {},
   "source": [
    "The analysis made in this notebook is a form of **ablation study**, here's all results obtained:\n",
    "\n",
    "| **Model Type** | **Feature Set** | **AUC-PR Score** | **Notes** |\n",
    "|----------------|-----------------|------------------|-----------| \n",
    "| **Logistic Regression (L2)** | All 5 topological features | 0.7571 | The baseline to test the difference between L1/L2 Regularization and choose the best topological features |\n",
    "| **Logistic Regression (L1)** | All 5 topological features | 0.7593 | Confirmed multicollinearity by setting the `aa` coefficient to zero. |\n",
    "| **Random Forest** | All 5 topological features | 0.8116 | *Highest overall score.* Proved the features are valuable when used by a model robust to multicollinearity. |\n",
    "| **Logistic Regression (L2)** | `ra` (L1-selected) | 0.7623 | Showed that a single topological feature could match the performance of all five, confirming feature redundancy. |\n",
    "| **Logistic Regression (L1)**  | `ra` + 224 node features (heuristic-selected) | 0.7865 | The addition of node features provided a performance boost over topology alone. |\n",
    "| **Random Forest** | `ra` + 224 node features (heuristic-selected) | 0.7570 | Performed worse than its LR counterpart, suggesting the node features added more noise than useful signal for the ensemble. |\n",
    "| **Logistic Regression (L2)**  | `ra` + 140 node features (L1-selected)| 0.8070 | *Best LR Score.* Removing noisy features with L1 allowed the model to achieve its peak performance, almost matching the best RF score. |\n"
   ]
  },
  {
   "cell_type": "markdown",
   "id": "10fcde5f",
   "metadata": {},
   "source": [
    "The first models highlighted how strong topological features are, especially when combined with a model robust to multicollinearity. However, the addition of node features helped to narrow the gap between a linear (LR) and a non-linear classifier (RF), by adding small, but still, valuable information. At the same time can also be noted that Random Forest lowered it's score, resulted being even lower than Logistic Regression with the combination of topological and node features (as already explained).\n",
    "\n",
    "The most significant performance gains came from a multi-stage feature selection process:\n",
    "1. Started with 224 node features\n",
    "2. Applied a simple heuristic to remove sparse features.\n",
    "3. Used multiple times L1 Regularization to automatically identify the ~140 topological and node features with the most predictive power.\n",
    "\n",
    "This analysis demonstrated that the choice of the model is as important and impactful as the feature engineering process."
   ]
  }
 ],
 "metadata": {
  "kernelspec": {
   "display_name": "learn_env",
   "language": "python",
   "name": "python3"
  },
  "language_info": {
   "codemirror_mode": {
    "name": "ipython",
    "version": 3
   },
   "file_extension": ".py",
   "mimetype": "text/x-python",
   "name": "python",
   "nbconvert_exporter": "python",
   "pygments_lexer": "ipython3",
   "version": "3.13.2"
  }
 },
 "nbformat": 4,
 "nbformat_minor": 5
}
